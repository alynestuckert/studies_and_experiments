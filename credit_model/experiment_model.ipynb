{
 "cells": [
  {
   "cell_type": "markdown",
   "id": "6dfeb1ae-eb41-4cbe-a009-797ffd3f1144",
   "metadata": {},
   "source": [
    "# Case Picpay- Modelo de classificação para credit score"
   ]
  },
  {
   "cell_type": "markdown",
   "id": "6b9905d9-97ed-4440-9357-6ad7859c8210",
   "metadata": {},
   "source": [
    "O desafio é a construção de um modelo de Credit Scoring cuja base de dados está\n",
    "localizada no link. O arquivo contém 81 variáveis e 10.738 registros, sendo que o \"id\" é a\n",
    "chave única da tabela, \"safra\" é o mês ano de concessão do crédito, \"y\" é a variável target e\n",
    "as demais são variáveis preditoras mascaradas.\n",
    "Seu trabalho consiste em:\n",
    "\n",
    "* Desenvolver um modelo para predizer a variável target\n",
    "* Justificar o algoritmo e parâmetros utilizados\n",
    "* Apresentar métricas de performance do modelo\n",
    "* Explicar e apresentar os resultados"
   ]
  },
  {
   "cell_type": "markdown",
   "id": "8cf62a40-17c6-4921-b9f0-be1509ec19b8",
   "metadata": {},
   "source": [
    "### 1.Exploratória da base"
   ]
  },
  {
   "cell_type": "code",
   "execution_count": 2,
   "id": "b7c6efcf-e076-4cac-adef-932a5a8629de",
   "metadata": {},
   "outputs": [],
   "source": [
    "import pandas as pd\n",
    "import numpy as np\n",
    "import seaborn as srn\n",
    "from sklearn.cluster import DBSCAN\n",
    "import warnings\n",
    "from sklearn.ensemble import RandomForestClassifier\n",
    "import lightgbm as lgb\n",
    "from sklearn.metrics import accuracy_score, precision_score, recall_score, f1_score, confusion_matrix, classification_report, roc_auc_score, roc_curve\n",
    "import matplotlib.pyplot as plt\n",
    "from sklearn.model_selection import GridSearchCV\n",
    "from sklearn.model_selection import RandomizedSearchCV\n",
    "import joblib\n",
    "import optuna\n",
    "import logging\n",
    "from scipy.stats import ks_2samp\n",
    "from boruta import BorutaPy\n",
    "import inflection\n",
    "from scipy.stats import chi2_contingency\n",
    "from xgboost import XGBClassifier"
   ]
  },
  {
   "cell_type": "code",
   "execution_count": 3,
   "id": "54175149-dc91-4c68-9d93-450e23984adc",
   "metadata": {},
   "outputs": [],
   "source": [
    "df = pd.read_csv('base_modelo.csv')"
   ]
  },
  {
   "cell_type": "code",
   "execution_count": 4,
   "id": "1463bf89-944a-4edb-a8b7-725de7e24984",
   "metadata": {},
   "outputs": [
    {
     "data": {
      "text/plain": [
       "(10738, 81)"
      ]
     },
     "execution_count": 4,
     "metadata": {},
     "output_type": "execute_result"
    }
   ],
   "source": [
    "df.shape"
   ]
  },
  {
   "cell_type": "code",
   "execution_count": 5,
   "id": "7c76a754-6db6-4473-a638-c06c2cbd795c",
   "metadata": {},
   "outputs": [
    {
     "name": "stdout",
     "output_type": "stream",
     "text": [
      "<class 'pandas.core.frame.DataFrame'>\n",
      "RangeIndex: 10738 entries, 0 to 10737\n",
      "Data columns (total 81 columns):\n",
      " #   Column  Non-Null Count  Dtype  \n",
      "---  ------  --------------  -----  \n",
      " 0   id      10738 non-null  int64  \n",
      " 1   safra   10738 non-null  int64  \n",
      " 2   y       10738 non-null  int64  \n",
      " 3   VAR_1   10322 non-null  float64\n",
      " 4   VAR_2   10322 non-null  float64\n",
      " 5   VAR_3   10322 non-null  float64\n",
      " 6   VAR_4   10322 non-null  float64\n",
      " 7   VAR_5   6678 non-null   float64\n",
      " 8   VAR_6   10647 non-null  float64\n",
      " 9   VAR_7   6106 non-null   float64\n",
      " 10  VAR_8   5905 non-null   float64\n",
      " 11  VAR_9   10738 non-null  float64\n",
      " 12  VAR_10  5173 non-null   float64\n",
      " 13  VAR_11  5754 non-null   float64\n",
      " 14  VAR_12  3541 non-null   float64\n",
      " 15  VAR_13  5520 non-null   float64\n",
      " 16  VAR_14  5197 non-null   float64\n",
      " 17  VAR_15  5684 non-null   float64\n",
      " 18  VAR_16  3631 non-null   float64\n",
      " 19  VAR_17  6237 non-null   float64\n",
      " 20  VAR_18  3615 non-null   float64\n",
      " 21  VAR_19  10677 non-null  float64\n",
      " 22  VAR_20  10738 non-null  int64  \n",
      " 23  VAR_21  3615 non-null   float64\n",
      " 24  VAR_22  10677 non-null  float64\n",
      " 25  VAR_23  5173 non-null   float64\n",
      " 26  VAR_24  6678 non-null   float64\n",
      " 27  VAR_25  10677 non-null  float64\n",
      " 28  VAR_26  5197 non-null   float64\n",
      " 29  VAR_27  4804 non-null   float64\n",
      " 30  VAR_28  10677 non-null  float64\n",
      " 31  VAR_29  4793 non-null   float64\n",
      " 32  VAR_30  10690 non-null  float64\n",
      " 33  VAR_31  4907 non-null   float64\n",
      " 34  VAR_32  10738 non-null  float64\n",
      " 35  VAR_33  10677 non-null  float64\n",
      " 36  VAR_34  5905 non-null   float64\n",
      " 37  VAR_35  5754 non-null   float64\n",
      " 38  VAR_36  3470 non-null   float64\n",
      " 39  VAR_37  4628 non-null   float64\n",
      " 40  VAR_38  6106 non-null   float64\n",
      " 41  VAR_39  5520 non-null   float64\n",
      " 42  VAR_40  10677 non-null  float64\n",
      " 43  VAR_41  3714 non-null   float64\n",
      " 44  VAR_42  4976 non-null   float64\n",
      " 45  VAR_43  3541 non-null   float64\n",
      " 46  VAR_44  10677 non-null  float64\n",
      " 47  VAR_45  5520 non-null   float64\n",
      " 48  VAR_46  5087 non-null   float64\n",
      " 49  VAR_47  3633 non-null   float64\n",
      " 50  VAR_48  4346 non-null   float64\n",
      " 51  VAR_49  3442 non-null   float64\n",
      " 52  VAR_50  4129 non-null   float64\n",
      " 53  VAR_51  5197 non-null   float64\n",
      " 54  VAR_52  5684 non-null   float64\n",
      " 55  VAR_53  8979 non-null   float64\n",
      " 56  VAR_54  9463 non-null   float64\n",
      " 57  VAR_55  3878 non-null   float64\n",
      " 58  VAR_56  3824 non-null   float64\n",
      " 59  VAR_57  10738 non-null  int64  \n",
      " 60  VAR_58  6678 non-null   float64\n",
      " 61  VAR_59  6187 non-null   float64\n",
      " 62  VAR_60  10738 non-null  float64\n",
      " 63  VAR_61  3080 non-null   float64\n",
      " 64  VAR_62  2361 non-null   float64\n",
      " 65  VAR_63  3493 non-null   float64\n",
      " 66  VAR_64  10738 non-null  int64  \n",
      " 67  VAR_65  8499 non-null   float64\n",
      " 68  VAR_66  5173 non-null   float64\n",
      " 69  VAR_67  4595 non-null   float64\n",
      " 70  VAR_68  4129 non-null   float64\n",
      " 71  VAR_69  5173 non-null   float64\n",
      " 72  VAR_70  2479 non-null   float64\n",
      " 73  VAR_71  5197 non-null   float64\n",
      " 74  VAR_72  10647 non-null  float64\n",
      " 75  VAR_73  5197 non-null   float64\n",
      " 76  VAR_74  5197 non-null   float64\n",
      " 77  VAR_75  3714 non-null   float64\n",
      " 78  VAR_76  6187 non-null   float64\n",
      " 79  VAR_77  5173 non-null   float64\n",
      " 80  VAR_78  5197 non-null   float64\n",
      "dtypes: float64(75), int64(6)\n",
      "memory usage: 6.6 MB\n"
     ]
    }
   ],
   "source": [
    "df.info()"
   ]
  },
  {
   "cell_type": "markdown",
   "id": "5c1edfcb-a463-4652-ac79-6a3a947f60b4",
   "metadata": {},
   "source": [
    "#### 1.1 Entendimento target e variáveis inteiras"
   ]
  },
  {
   "cell_type": "code",
   "execution_count": 6,
   "id": "78f631a5-62e5-427b-8a8e-87c27a89257b",
   "metadata": {},
   "outputs": [
    {
     "data": {
      "text/plain": [
       "y\n",
       "0    0.708698\n",
       "1    0.291302\n",
       "Name: proportion, dtype: float64"
      ]
     },
     "execution_count": 6,
     "metadata": {},
     "output_type": "execute_result"
    }
   ],
   "source": [
    "df.y.value_counts(normalize=True, dropna=False)"
   ]
  },
  {
   "cell_type": "code",
   "execution_count": 7,
   "id": "40e6a61e-1f31-4f55-bf00-5aa5d7deeac6",
   "metadata": {},
   "outputs": [
    {
     "data": {
      "text/plain": [
       "safra\n",
       "201405    0.090520\n",
       "201407    0.090147\n",
       "201404    0.088936\n",
       "201410    0.086888\n",
       "201408    0.084932\n",
       "201406    0.084001\n",
       "201402    0.083628\n",
       "201409    0.081673\n",
       "201403    0.081300\n",
       "201401    0.079531\n",
       "201411    0.075247\n",
       "201412    0.073198\n",
       "Name: proportion, dtype: float64"
      ]
     },
     "execution_count": 7,
     "metadata": {},
     "output_type": "execute_result"
    }
   ],
   "source": [
    "df.safra.value_counts(normalize=True, dropna=False)"
   ]
  },
  {
   "cell_type": "code",
   "execution_count": 8,
   "id": "20eafb89-3068-4d30-89e0-2500d6d5434c",
   "metadata": {},
   "outputs": [
    {
     "data": {
      "text/plain": [
       "Index(['VAR_20', 'VAR_57', 'VAR_64'], dtype='object')"
      ]
     },
     "execution_count": 8,
     "metadata": {},
     "output_type": "execute_result"
    }
   ],
   "source": [
    "df_exp = df.loc[:,df.columns.str.startswith('VAR')]\n",
    "df_exp.select_dtypes(include=['integer']).columns"
   ]
  },
  {
   "cell_type": "code",
   "execution_count": 9,
   "id": "25161092-0af0-46bb-9391-507dcdb89c7d",
   "metadata": {},
   "outputs": [
    {
     "data": {
      "text/plain": [
       "VAR_20\n",
       "12    0.699106\n",
       "10    0.079903\n",
       "6     0.059415\n",
       "5     0.039486\n",
       "8     0.038648\n",
       "3     0.037717\n",
       "4     0.023747\n",
       "7     0.012386\n",
       "9     0.008475\n",
       "11    0.001118\n",
       "Name: proportion, dtype: float64"
      ]
     },
     "execution_count": 9,
     "metadata": {},
     "output_type": "execute_result"
    }
   ],
   "source": [
    "df_exp.VAR_20.value_counts(dropna=False, normalize=True).sort_values(ascending=False)"
   ]
  },
  {
   "cell_type": "code",
   "execution_count": 10,
   "id": "94441b98-0521-42ef-b086-3314ac0e846c",
   "metadata": {},
   "outputs": [
    {
     "data": {
      "text/plain": [
       "VAR_57\n",
       "47    321\n",
       "45    314\n",
       "50    313\n",
       "46    312\n",
       "48    300\n",
       "     ... \n",
       "76     28\n",
       "75     28\n",
       "78     14\n",
       "77     13\n",
       "18     11\n",
       "Name: count, Length: 61, dtype: int64"
      ]
     },
     "execution_count": 10,
     "metadata": {},
     "output_type": "execute_result"
    }
   ],
   "source": [
    "df_exp.VAR_57.value_counts(dropna=False).sort_values(ascending=False)"
   ]
  },
  {
   "cell_type": "code",
   "execution_count": 11,
   "id": "15c823ca-2f48-45cb-93b4-ed351c4fe684",
   "metadata": {},
   "outputs": [
    {
     "data": {
      "text/plain": [
       "count    10738.000000\n",
       "mean        45.963308\n",
       "std         12.847511\n",
       "min         18.000000\n",
       "25%         36.000000\n",
       "50%         46.000000\n",
       "75%         55.000000\n",
       "max         78.000000\n",
       "Name: VAR_57, dtype: float64"
      ]
     },
     "execution_count": 11,
     "metadata": {},
     "output_type": "execute_result"
    }
   ],
   "source": [
    "df_exp.VAR_57.describe()\n",
    "# Idade do cliente"
   ]
  },
  {
   "cell_type": "code",
   "execution_count": 12,
   "id": "fab43207-b42e-453e-a24f-e636332c1010",
   "metadata": {},
   "outputs": [
    {
     "data": {
      "text/plain": [
       "VAR_64\n",
       "1    6519\n",
       "0    4219\n",
       "Name: count, dtype: int64"
      ]
     },
     "execution_count": 12,
     "metadata": {},
     "output_type": "execute_result"
    }
   ],
   "source": [
    "df_exp.VAR_64.value_counts()"
   ]
  },
  {
   "cell_type": "markdown",
   "id": "4bca25e5-5c44-4939-9d70-41c66e5f868d",
   "metadata": {},
   "source": [
    "* 30% dos contratos possuem inadimplẽncia\n",
    "* Os contratos são referentes ao ano de 2014 com \"fatias\" de ~10% da base por mês\n",
    "* Todas as variáveis explicativas são numéricas\n",
    "* Apenas 3 variáveis são inteiras e não possuem nulos:\n",
    "* VAR20 com range de 3 a 12, concentração de 70% em 12, imagino ser a quantidade de parcelas\n",
    "* VAR57 com range de 18 a 78, imagino ser a idade do cliente\n",
    "* VAR64 binária"
   ]
  },
  {
   "cell_type": "markdown",
   "id": "2fb7a17f-c04e-473d-b597-51ceb530ff0d",
   "metadata": {},
   "source": [
    "#### 1.2 Entendimento das variáveis com valores ausentes"
   ]
  },
  {
   "cell_type": "code",
   "execution_count": 13,
   "id": "1b33691a-32b6-45fa-a854-b6b4b11821a9",
   "metadata": {},
   "outputs": [
    {
     "data": {
      "text/plain": [
       "(52, 2)"
      ]
     },
     "execution_count": 13,
     "metadata": {},
     "output_type": "execute_result"
    }
   ],
   "source": [
    "df_miss = ((df.isnull().sum() / len(df)) * 100).reset_index()\n",
    "\n",
    "df_miss.columns=['columns','n_miss']\n",
    "df_miss[df_miss['n_miss']>40].shape"
   ]
  },
  {
   "cell_type": "code",
   "execution_count": 14,
   "id": "70f21635-8287-425d-9907-452d623c0717",
   "metadata": {},
   "outputs": [
    {
     "data": {
      "text/plain": [
       "26"
      ]
     },
     "execution_count": 14,
     "metadata": {},
     "output_type": "execute_result"
    }
   ],
   "source": [
    "78-52"
   ]
  },
  {
   "cell_type": "markdown",
   "id": "ccda4987-e897-4d8e-89bc-dfd0acd70d75",
   "metadata": {},
   "source": [
    "#### 1.2.1 Concentração de missings por safra?"
   ]
  },
  {
   "cell_type": "code",
   "execution_count": 15,
   "id": "69a21e84-97a5-4ca8-9e01-4a46d2eb94d2",
   "metadata": {},
   "outputs": [
    {
     "data": {
      "text/html": [
       "<div>\n",
       "<style scoped>\n",
       "    .dataframe tbody tr th:only-of-type {\n",
       "        vertical-align: middle;\n",
       "    }\n",
       "\n",
       "    .dataframe tbody tr th {\n",
       "        vertical-align: top;\n",
       "    }\n",
       "\n",
       "    .dataframe thead th {\n",
       "        text-align: right;\n",
       "    }\n",
       "</style>\n",
       "<table border=\"1\" class=\"dataframe\">\n",
       "  <thead>\n",
       "    <tr style=\"text-align: right;\">\n",
       "      <th></th>\n",
       "      <th>columns</th>\n",
       "      <th>n_miss</th>\n",
       "    </tr>\n",
       "  </thead>\n",
       "  <tbody>\n",
       "    <tr>\n",
       "      <th>7</th>\n",
       "      <td>VAR_5</td>\n",
       "      <td>37.809648</td>\n",
       "    </tr>\n",
       "    <tr>\n",
       "      <th>26</th>\n",
       "      <td>VAR_24</td>\n",
       "      <td>37.809648</td>\n",
       "    </tr>\n",
       "    <tr>\n",
       "      <th>55</th>\n",
       "      <td>VAR_53</td>\n",
       "      <td>16.381077</td>\n",
       "    </tr>\n",
       "    <tr>\n",
       "      <th>56</th>\n",
       "      <td>VAR_54</td>\n",
       "      <td>11.873720</td>\n",
       "    </tr>\n",
       "    <tr>\n",
       "      <th>60</th>\n",
       "      <td>VAR_58</td>\n",
       "      <td>37.809648</td>\n",
       "    </tr>\n",
       "    <tr>\n",
       "      <th>67</th>\n",
       "      <td>VAR_65</td>\n",
       "      <td>20.851183</td>\n",
       "    </tr>\n",
       "  </tbody>\n",
       "</table>\n",
       "</div>"
      ],
      "text/plain": [
       "   columns     n_miss\n",
       "7    VAR_5  37.809648\n",
       "26  VAR_24  37.809648\n",
       "55  VAR_53  16.381077\n",
       "56  VAR_54  11.873720\n",
       "60  VAR_58  37.809648\n",
       "67  VAR_65  20.851183"
      ]
     },
     "execution_count": 15,
     "metadata": {},
     "output_type": "execute_result"
    }
   ],
   "source": [
    "df_miss[(df_miss['n_miss']>10) & (df_miss['n_miss']<40)]"
   ]
  },
  {
   "cell_type": "code",
   "execution_count": 16,
   "id": "103b1a4e-0ab8-4035-9b3b-d77992df4efa",
   "metadata": {},
   "outputs": [],
   "source": [
    "df_for_test_corr=df_miss[(df_miss['n_miss']>10) & (df_miss['n_miss']<40)]['columns'].tolist()"
   ]
  },
  {
   "cell_type": "code",
   "execution_count": 17,
   "id": "4df7ad56-b12d-4f74-889a-d890880c3986",
   "metadata": {},
   "outputs": [
    {
     "data": {
      "text/plain": [
       "['VAR_5', 'VAR_24', 'VAR_53', 'VAR_54', 'VAR_58', 'VAR_65']"
      ]
     },
     "execution_count": 17,
     "metadata": {},
     "output_type": "execute_result"
    }
   ],
   "source": [
    "df_for_test_corr"
   ]
  },
  {
   "cell_type": "code",
   "execution_count": 18,
   "id": "162f92a5-c0a8-4d4c-ae11-e1d43db0fe1e",
   "metadata": {},
   "outputs": [
    {
     "name": "stdout",
     "output_type": "stream",
     "text": [
      "VAR_5\n",
      "safra\n",
      "201407    0.095074\n",
      "201404    0.093103\n",
      "201410    0.092857\n",
      "201406    0.090148\n",
      "201409    0.086453\n",
      "201408    0.085961\n",
      "201405    0.084729\n",
      "201403    0.079310\n",
      "201411    0.075123\n",
      "201412    0.073645\n",
      "201401    0.071921\n",
      "201402    0.071675\n",
      "Name: proportion, dtype: float64\n",
      "___________________________\n",
      "VAR_24\n",
      "safra\n",
      "201407    0.095074\n",
      "201404    0.093103\n",
      "201410    0.092857\n",
      "201406    0.090148\n",
      "201409    0.086453\n",
      "201408    0.085961\n",
      "201405    0.084729\n",
      "201403    0.079310\n",
      "201411    0.075123\n",
      "201412    0.073645\n",
      "201401    0.071921\n",
      "201402    0.071675\n",
      "Name: proportion, dtype: float64\n",
      "___________________________\n",
      "VAR_53\n",
      "safra\n",
      "201410    0.262649\n",
      "201409    0.245594\n",
      "201411    0.229676\n",
      "201412    0.217169\n",
      "201408    0.032973\n",
      "201407    0.002843\n",
      "201404    0.002274\n",
      "201402    0.002274\n",
      "201406    0.001706\n",
      "201405    0.001137\n",
      "201401    0.001137\n",
      "201403    0.000569\n",
      "Name: proportion, dtype: float64\n",
      "___________________________\n",
      "VAR_54\n",
      "safra\n",
      "201401    0.441569\n",
      "201402    0.428235\n",
      "201404    0.029804\n",
      "201405    0.021961\n",
      "201403    0.021961\n",
      "201406    0.020392\n",
      "201408    0.014902\n",
      "201407    0.010980\n",
      "201409    0.005490\n",
      "201411    0.001569\n",
      "201412    0.001569\n",
      "201410    0.001569\n",
      "Name: proportion, dtype: float64\n",
      "___________________________\n",
      "VAR_58\n",
      "safra\n",
      "201407    0.095074\n",
      "201404    0.093103\n",
      "201410    0.092857\n",
      "201406    0.090148\n",
      "201409    0.086453\n",
      "201408    0.085961\n",
      "201405    0.084729\n",
      "201403    0.079310\n",
      "201411    0.075123\n",
      "201412    0.073645\n",
      "201401    0.071921\n",
      "201402    0.071675\n",
      "Name: proportion, dtype: float64\n",
      "___________________________\n",
      "VAR_65\n",
      "safra\n",
      "201405    0.096918\n",
      "201410    0.095578\n",
      "201407    0.089772\n",
      "201406    0.087986\n",
      "201404    0.087092\n",
      "201411    0.080840\n",
      "201403    0.080393\n",
      "201408    0.079946\n",
      "201412    0.078607\n",
      "201409    0.076373\n",
      "201402    0.075033\n",
      "201401    0.071460\n",
      "Name: proportion, dtype: float64\n",
      "___________________________\n"
     ]
    }
   ],
   "source": [
    "# Testar distribuição de nulos por safra\n",
    "for var in df_for_test_corr:\n",
    "    print(var)\n",
    "    print(df[df[var].isnull()]['safra'].value_counts(normalize=True))\n",
    "    print('___________________________')"
   ]
  },
  {
   "cell_type": "markdown",
   "id": "408aed71-af6a-4db9-9b6a-335b41ca54c0",
   "metadata": {},
   "source": [
    "Não foi identificada uma safra em comum para as variáveis que tem maior percentual de nulos"
   ]
  },
  {
   "cell_type": "markdown",
   "id": "a3ba7b8a-48d8-455f-b4ac-683955f5f85a",
   "metadata": {},
   "source": [
    "#### 1.2.2 Correlação com target dentre as variáveis com maiores percentuais de valores ausentes\n",
    "Validar correlação com a resposta para entendimento se faz sentido manter a imputação de valores, que em alguns casos é ~40%"
   ]
  },
  {
   "cell_type": "code",
   "execution_count": 19,
   "id": "71336786-265f-48b4-b66f-e393e52ea610",
   "metadata": {},
   "outputs": [
    {
     "data": {
      "text/html": [
       "<div>\n",
       "<style scoped>\n",
       "    .dataframe tbody tr th:only-of-type {\n",
       "        vertical-align: middle;\n",
       "    }\n",
       "\n",
       "    .dataframe tbody tr th {\n",
       "        vertical-align: top;\n",
       "    }\n",
       "\n",
       "    .dataframe thead th {\n",
       "        text-align: right;\n",
       "    }\n",
       "</style>\n",
       "<table border=\"1\" class=\"dataframe\">\n",
       "  <thead>\n",
       "    <tr style=\"text-align: right;\">\n",
       "      <th></th>\n",
       "      <th>columns</th>\n",
       "      <th>n_miss</th>\n",
       "    </tr>\n",
       "  </thead>\n",
       "  <tbody>\n",
       "    <tr>\n",
       "      <th>56</th>\n",
       "      <td>VAR_54</td>\n",
       "      <td>11.873720</td>\n",
       "    </tr>\n",
       "    <tr>\n",
       "      <th>55</th>\n",
       "      <td>VAR_53</td>\n",
       "      <td>16.381077</td>\n",
       "    </tr>\n",
       "    <tr>\n",
       "      <th>67</th>\n",
       "      <td>VAR_65</td>\n",
       "      <td>20.851183</td>\n",
       "    </tr>\n",
       "    <tr>\n",
       "      <th>7</th>\n",
       "      <td>VAR_5</td>\n",
       "      <td>37.809648</td>\n",
       "    </tr>\n",
       "    <tr>\n",
       "      <th>26</th>\n",
       "      <td>VAR_24</td>\n",
       "      <td>37.809648</td>\n",
       "    </tr>\n",
       "    <tr>\n",
       "      <th>60</th>\n",
       "      <td>VAR_58</td>\n",
       "      <td>37.809648</td>\n",
       "    </tr>\n",
       "  </tbody>\n",
       "</table>\n",
       "</div>"
      ],
      "text/plain": [
       "   columns     n_miss\n",
       "56  VAR_54  11.873720\n",
       "55  VAR_53  16.381077\n",
       "67  VAR_65  20.851183\n",
       "7    VAR_5  37.809648\n",
       "26  VAR_24  37.809648\n",
       "60  VAR_58  37.809648"
      ]
     },
     "execution_count": 19,
     "metadata": {},
     "output_type": "execute_result"
    }
   ],
   "source": [
    "df_miss[(df_miss['n_miss']>10) & (df_miss['n_miss']<40)].sort_values(by='n_miss')"
   ]
  },
  {
   "cell_type": "code",
   "execution_count": 20,
   "id": "f10f6e51-6db7-432e-98fa-0e0d4148ad9e",
   "metadata": {},
   "outputs": [
    {
     "data": {
      "text/plain": [
       "<Axes: xlabel='y', ylabel='VAR_5'>"
      ]
     },
     "execution_count": 20,
     "metadata": {},
     "output_type": "execute_result"
    },
    {
     "data": {
      "image/png": "[encoded data removed]",
      "text/plain": [
       "<Figure size 640x480 with 1 Axes>"
      ]
     },
     "metadata": {},
     "output_type": "display_data"
    }
   ],
   "source": [
    "df_cor = df[['y','VAR_5']].dropna()\n",
    "srn.boxplot(x='y', y='VAR_5', data=df[df['VAR_5']<200])"
   ]
  },
  {
   "cell_type": "code",
   "execution_count": 21,
   "id": "27ff87cb-a81b-46ac-aefa-dc80da7b9776",
   "metadata": {},
   "outputs": [
    {
     "data": {
      "text/plain": [
       "<Axes: xlabel='y', ylabel='VAR_24'>"
      ]
     },
     "execution_count": 21,
     "metadata": {},
     "output_type": "execute_result"
    },
    {
     "data": {
      "image/png": "[encoded data removed]",
      "text/plain": [
       "<Figure size 640x480 with 1 Axes>"
      ]
     },
     "metadata": {},
     "output_type": "display_data"
    }
   ],
   "source": [
    "df_cor = df[['y','VAR_24']].dropna()\n",
    "srn.boxplot(x='y', y='VAR_24', data=df[df['VAR_24']<1000])"
   ]
  },
  {
   "cell_type": "code",
   "execution_count": 22,
   "id": "3039b171-6a33-4e40-badc-eb92541de3bb",
   "metadata": {},
   "outputs": [
    {
     "data": {
      "text/plain": [
       "<Axes: xlabel='y', ylabel='VAR_58'>"
      ]
     },
     "execution_count": 22,
     "metadata": {},
     "output_type": "execute_result"
    },
    {
     "data": {
      "image/png": "[encoded data removed]",
      "text/plain": [
       "<Figure size 640x480 with 1 Axes>"
      ]
     },
     "metadata": {},
     "output_type": "display_data"
    }
   ],
   "source": [
    "df_cor = df[['y','VAR_58']].dropna()\n",
    "srn.boxplot(x='y', y='VAR_58', data=df[df['VAR_58']<1000])"
   ]
  },
  {
   "cell_type": "code",
   "execution_count": 23,
   "id": "b5e922f5-d251-4b1c-9fbb-d5c5203ec8d5",
   "metadata": {},
   "outputs": [],
   "source": [
    "cols_to_drop=df_miss[df_miss['n_miss']>40]['columns'].unique().tolist()"
   ]
  },
  {
   "cell_type": "code",
   "execution_count": 24,
   "id": "5a602247-3679-42f9-82e7-a9aadafbb9ea",
   "metadata": {},
   "outputs": [],
   "source": [
    "to_drop = cols_to_drop + ['VAR_5','VAR_24','VAR_58']\n",
    "df_for_feature_selection  = df.drop(columns = to_drop)"
   ]
  },
  {
   "cell_type": "code",
   "execution_count": 25,
   "id": "2c316b4b-25ea-40b4-93d5-0a0fad0dad04",
   "metadata": {},
   "outputs": [
    {
     "data": {
      "text/plain": [
       "Index(['id', 'safra', 'y', 'VAR_1', 'VAR_2', 'VAR_3', 'VAR_4', 'VAR_6',\n",
       "       'VAR_9', 'VAR_19', 'VAR_20', 'VAR_22', 'VAR_25', 'VAR_28', 'VAR_30',\n",
       "       'VAR_32', 'VAR_33', 'VAR_40', 'VAR_44', 'VAR_53', 'VAR_54', 'VAR_57',\n",
       "       'VAR_60', 'VAR_64', 'VAR_65', 'VAR_72'],\n",
       "      dtype='object')"
      ]
     },
     "execution_count": 25,
     "metadata": {},
     "output_type": "execute_result"
    }
   ],
   "source": [
    "df_for_feature_selection.columns"
   ]
  },
  {
   "cell_type": "markdown",
   "id": "95081c43-8b5b-4c50-af88-a0b76f138d24",
   "metadata": {},
   "source": [
    "#### 1.2.4 Conclusões valores ausentes"
   ]
  },
  {
   "cell_type": "markdown",
   "id": "1010f13f-d755-41ac-b8d5-fd4308c6730a",
   "metadata": {},
   "source": [
    "* 52 variáveis explicativas tem mais de 40% de valores ausentes\n",
    "* A escolha para retirar essas variáveis reflete inicialmente a falta do seu rótulo para identificar alguma hipótese de correlação com o target, mais que 40% da informação será imputada e isso não reflete o comportamento da variável, o interessante seria ter pelo menos 60% da variável completa, justificando a escolha do corte\n",
    "* Não encontrou-se uma safra em comum para representar um erro da base em um período específico \n",
    "* Existem 3 variáveis com mesmo % de valores ausentes, ~40%, essas não aparentam estar relacionada com o target, portanto serão retiradas também.\n",
    "* Restaram então 23 features explicativas para tratamento e seleção automática"
   ]
  },
  {
   "cell_type": "markdown",
   "id": "6e01fd78-552b-497e-aeb9-aa9c9c806952",
   "metadata": {},
   "source": [
    "### 2. pré-processamento \n",
    "* Tratamento de missings e outliers: mediana das variáveis agrupadas pela VAR_57(Idade)"
   ]
  },
  {
   "cell_type": "markdown",
   "id": "d534e454-594e-478a-b7aa-db7139f34a4d",
   "metadata": {},
   "source": [
    "#### 2.1 Missing"
   ]
  },
  {
   "cell_type": "code",
   "execution_count": 26,
   "id": "c6b295f5-5ea4-485a-a64c-a1698daa1df4",
   "metadata": {},
   "outputs": [],
   "source": [
    "list_cols_input_miss = df_for_feature_selection.select_dtypes('float').columns.tolist()"
   ]
  },
  {
   "cell_type": "code",
   "execution_count": 27,
   "id": "8a7ce381-6a4d-4306-b45e-b0377457f670",
   "metadata": {},
   "outputs": [],
   "source": [
    "def input_median(row, med): \n",
    "    \n",
    "    if np.isnan(row[var]):\n",
    "        return med.get((row['VAR_57']), np.nan) \n",
    "    else:\n",
    "        return row[var]  "
   ]
  },
  {
   "cell_type": "code",
   "execution_count": 28,
   "id": "7018f94a-61c3-483f-bf53-bef437ce8dc2",
   "metadata": {},
   "outputs": [],
   "source": [
    "for var in list_cols_input_miss:\n",
    "    med = df_for_feature_selection.groupby(['VAR_57'])[var].median()\n",
    "    df_for_feature_selection[f'{var}_input'] = df_for_feature_selection.apply(input_median, axis=1, med=med)"
   ]
  },
  {
   "cell_type": "code",
   "execution_count": 30,
   "id": "3361e602-c351-4b93-a1bc-0958674343db",
   "metadata": {},
   "outputs": [
    {
     "data": {
      "text/plain": [
       "Index(['id', 'safra', 'y', 'VAR_1', 'VAR_2', 'VAR_3', 'VAR_4', 'VAR_6',\n",
       "       'VAR_9', 'VAR_19', 'VAR_20', 'VAR_22', 'VAR_25', 'VAR_28', 'VAR_30',\n",
       "       'VAR_32', 'VAR_33', 'VAR_40', 'VAR_44', 'VAR_53', 'VAR_54', 'VAR_57',\n",
       "       'VAR_60', 'VAR_64', 'VAR_65', 'VAR_72', 'VAR_1_input', 'VAR_2_input',\n",
       "       'VAR_3_input', 'VAR_4_input', 'VAR_6_input', 'VAR_9_input',\n",
       "       'VAR_19_input', 'VAR_22_input', 'VAR_25_input', 'VAR_28_input',\n",
       "       'VAR_30_input', 'VAR_32_input', 'VAR_33_input', 'VAR_40_input',\n",
       "       'VAR_44_input', 'VAR_53_input', 'VAR_54_input', 'VAR_60_input',\n",
       "       'VAR_65_input', 'VAR_72_input'],\n",
       "      dtype='object')"
      ]
     },
     "execution_count": 30,
     "metadata": {},
     "output_type": "execute_result"
    }
   ],
   "source": [
    "df_for_feature_selection.columns"
   ]
  },
  {
   "cell_type": "markdown",
   "id": "5d1a182b-288b-4354-8e47-5e78d04be906",
   "metadata": {},
   "source": [
    "#### 2.2 Outlier"
   ]
  },
  {
   "cell_type": "markdown",
   "id": "273a70e2-dd06-4eff-9976-02ef08c58b58",
   "metadata": {},
   "source": [
    "##### Describe variáveis"
   ]
  },
  {
   "cell_type": "code",
   "execution_count": 31,
   "id": "1410f94e-b622-496d-a592-f684bdccc775",
   "metadata": {},
   "outputs": [
    {
     "name": "stdout",
     "output_type": "stream",
     "text": [
      "VAR_1_input\n",
      "        VAR_1_input\n",
      "count  10738.000000\n",
      "mean      32.306947\n",
      "std       45.596838\n",
      "min        0.000000\n",
      "25%        0.000000\n",
      "50%       16.000000\n",
      "75%       41.750000\n",
      "max      208.000000\n",
      "____________________\n",
      "VAR_2_input\n",
      "        VAR_2_input\n",
      "count  10738.000000\n",
      "mean       0.357888\n",
      "std        1.236104\n",
      "min        0.000000\n",
      "25%        0.000000\n",
      "50%        0.000000\n",
      "75%        0.000000\n",
      "max       17.000000\n",
      "____________________\n",
      "VAR_3_input\n",
      "        VAR_3_input\n",
      "count  10738.000000\n",
      "mean       0.274632\n",
      "std        0.851731\n",
      "min        0.000000\n",
      "25%        0.000000\n",
      "50%        0.000000\n",
      "75%        0.000000\n",
      "max       11.000000\n",
      "____________________\n",
      "VAR_4_input\n",
      "        VAR_4_input\n",
      "count  10738.000000\n",
      "mean       0.553921\n",
      "std        1.195100\n",
      "min        0.000000\n",
      "25%        0.000000\n",
      "50%        0.000000\n",
      "75%        1.000000\n",
      "max       13.000000\n",
      "____________________\n",
      "VAR_6_input\n",
      "         VAR_6_input\n",
      "count   10738.000000\n",
      "mean     1484.864640\n",
      "std      7305.926437\n",
      "min       -94.000000\n",
      "25%       449.000000\n",
      "50%       883.000000\n",
      "75%      1975.000000\n",
      "max    432895.000000\n",
      "____________________\n",
      "VAR_9_input\n",
      "        VAR_9_input\n",
      "count  10738.000000\n",
      "mean    1156.501271\n",
      "std      663.644517\n",
      "min      150.000000\n",
      "25%      650.000000\n",
      "50%     1000.000000\n",
      "75%     1500.000000\n",
      "max     3000.000000\n",
      "____________________\n",
      "VAR_19_input\n",
      "       VAR_19_input\n",
      "count  10738.000000\n",
      "mean       7.779847\n",
      "std       16.270324\n",
      "min        0.000000\n",
      "25%        0.000000\n",
      "50%        0.000000\n",
      "75%        7.000000\n",
      "max      119.000000\n",
      "____________________\n",
      "VAR_22_input\n",
      "       VAR_22_input\n",
      "count  10738.000000\n",
      "mean      10.282036\n",
      "std       20.407957\n",
      "min        0.000000\n",
      "25%        0.000000\n",
      "50%        0.000000\n",
      "75%       11.000000\n",
      "max      122.000000\n",
      "____________________\n",
      "VAR_25_input\n",
      "       VAR_25_input\n",
      "count  10738.000000\n",
      "mean       2.315794\n",
      "std        3.861148\n",
      "min        0.000000\n",
      "25%        0.000000\n",
      "50%        0.000000\n",
      "75%        4.000000\n",
      "max       12.000000\n",
      "____________________\n",
      "VAR_28_input\n",
      "       VAR_28_input\n",
      "count  10738.000000\n",
      "mean       2.878096\n",
      "std        4.510137\n",
      "min        0.000000\n",
      "25%        0.000000\n",
      "50%        0.000000\n",
      "75%        6.000000\n",
      "max       12.000000\n",
      "____________________\n",
      "VAR_30_input\n",
      "       VAR_30_input\n",
      "count  10738.000000\n",
      "mean    1712.809247\n",
      "std     1496.964418\n",
      "min      150.000000\n",
      "25%      800.000000\n",
      "50%     1224.615000\n",
      "75%     2000.000000\n",
      "max    30134.640000\n",
      "____________________\n",
      "VAR_32_input\n",
      "       VAR_32_input\n",
      "count  10738.000000\n",
      "mean       0.115554\n",
      "std        0.027956\n",
      "min       -0.151024\n",
      "25%        0.090634\n",
      "50%        0.133833\n",
      "75%        0.133833\n",
      "max        0.133833\n",
      "____________________\n",
      "VAR_33_input\n",
      "       VAR_33_input\n",
      "count  10738.000000\n",
      "mean       2.501909\n",
      "std        5.702574\n",
      "min        0.000000\n",
      "25%        0.000000\n",
      "50%        0.000000\n",
      "75%        2.000000\n",
      "max       68.000000\n",
      "____________________\n",
      "VAR_40_input\n",
      "       VAR_40_input\n",
      "count  10738.000000\n",
      "mean       3.238452\n",
      "std        4.161880\n",
      "min        0.000000\n",
      "25%        0.000000\n",
      "50%        0.000000\n",
      "75%        7.000000\n",
      "max       12.000000\n",
      "____________________\n",
      "VAR_44_input\n",
      "       VAR_44_input\n",
      "count  10738.000000\n",
      "mean       4.084187\n",
      "std        4.848183\n",
      "min        0.000000\n",
      "25%        0.000000\n",
      "50%        1.000000\n",
      "75%        9.000000\n",
      "max       12.000000\n",
      "____________________\n",
      "VAR_53_input\n",
      "       VAR_53_input\n",
      "count  10738.000000\n",
      "mean    2220.181677\n",
      "std     2200.136709\n",
      "min       19.380000\n",
      "25%     1000.000000\n",
      "50%     1600.000000\n",
      "75%     2600.000000\n",
      "max    28002.480000\n",
      "____________________\n",
      "VAR_54_input\n",
      "       VAR_54_input\n",
      "count  10738.000000\n",
      "mean    1737.716965\n",
      "std     1551.676529\n",
      "min       11.900000\n",
      "25%      900.000000\n",
      "50%     1284.945000\n",
      "75%     2000.000000\n",
      "max    16346.830000\n",
      "____________________\n",
      "VAR_60_input\n",
      "       VAR_60_input\n",
      "count  10738.000000\n",
      "mean       0.016262\n",
      "std        0.335400\n",
      "min       -0.690749\n",
      "25%       -0.231735\n",
      "50%       -0.016209\n",
      "75%        0.219380\n",
      "max        0.721630\n",
      "____________________\n",
      "VAR_65_input\n",
      "       VAR_65_input\n",
      "count  10738.000000\n",
      "mean    1132.185452\n",
      "std     1279.265203\n",
      "min        0.000000\n",
      "25%      457.645000\n",
      "50%      753.620000\n",
      "75%     1276.807500\n",
      "max    14004.180000\n",
      "____________________\n",
      "VAR_72_input\n",
      "       VAR_72_input\n",
      "count  10738.000000\n",
      "mean     162.185649\n",
      "std      305.775249\n",
      "min     -104.000000\n",
      "25%        9.000000\n",
      "50%       55.000000\n",
      "75%      186.000000\n",
      "max     3652.000000\n",
      "____________________\n"
     ]
    }
   ],
   "source": [
    "# colunas que devem ser tratadas\n",
    "cols = ['VAR_1_input',\n",
    "       'VAR_2_input', 'VAR_3_input', 'VAR_4_input', 'VAR_6_input',\n",
    "       'VAR_9_input', 'VAR_19_input', 'VAR_22_input', 'VAR_25_input',\n",
    "       'VAR_28_input', 'VAR_30_input', 'VAR_32_input', 'VAR_33_input',\n",
    "       'VAR_40_input', 'VAR_44_input', 'VAR_53_input', 'VAR_54_input',\n",
    "       'VAR_60_input', 'VAR_65_input', 'VAR_72_input']\n",
    "for c in cols:\n",
    "    print(c)\n",
    "    print(df_for_feature_selection[[c]].describe())\n",
    "    print('____________________')"
   ]
  },
  {
   "cell_type": "markdown",
   "id": "6c186ad9-9274-43a3-8f94-f8df0d2b97c8",
   "metadata": {},
   "source": [
    "Uma boa parte das variáveis consideradas como float, parecem ser inteiras e com boa parte das informações igual a 0, ou seja, a mediana se torna 0 e todas as linhas podem se tornar 0.\n",
    "Dessa forma, seleciona-se apenas algumas delas que parecem possuir outliers de acordo com sua distribuição"
   ]
  },
  {
   "cell_type": "markdown",
   "id": "1d276766-4d6f-402c-8ef4-c8d14adfa1dd",
   "metadata": {},
   "source": [
    "##### Tratamento"
   ]
  },
  {
   "cell_type": "code",
   "execution_count": 32,
   "id": "e8dc0511-802e-4540-9db7-3cd6d99de530",
   "metadata": {},
   "outputs": [],
   "source": [
    "cols_outliers=['VAR_1_input','VAR_6_input','VAR_30_input','VAR_53_input','VAR_54_input','VAR_65_input','VAR_72_input']"
   ]
  },
  {
   "cell_type": "code",
   "execution_count": 37,
   "id": "c42c86ef-14d5-438b-a09e-794f94b9a23e",
   "metadata": {},
   "outputs": [],
   "source": [
    "for col in cols_outliers:\n",
    "    Q1 = df_for_feature_selection[col].quantile(0.25)\n",
    "    Q3 = df_for_feature_selection[col].quantile(0.75)\n",
    "    IQR = Q3 - Q1\n",
    "    LI = Q1 - 1.5 * IQR\n",
    "    LS = Q3 + 1.5 * IQR\n",
    "    \n",
    "    df_for_feature_selection[f'{col}_outlier'] = df_for_feature_selection[col].apply(lambda x: True if x < LI or x > LS else False)    \n",
    "    "
   ]
  },
  {
   "cell_type": "code",
   "execution_count": 33,
   "id": "03de66f1-a6b7-4c35-9f64-852d53270bda",
   "metadata": {},
   "outputs": [
    {
     "data": {
      "text/plain": [
       "Index(['id', 'safra', 'y', 'VAR_1', 'VAR_2', 'VAR_3', 'VAR_4', 'VAR_6',\n",
       "       'VAR_9', 'VAR_19', 'VAR_20', 'VAR_22', 'VAR_25', 'VAR_28', 'VAR_30',\n",
       "       'VAR_32', 'VAR_33', 'VAR_40', 'VAR_44', 'VAR_53', 'VAR_54', 'VAR_57',\n",
       "       'VAR_60', 'VAR_64', 'VAR_65', 'VAR_72', 'VAR_1_input', 'VAR_2_input',\n",
       "       'VAR_3_input', 'VAR_4_input', 'VAR_6_input', 'VAR_9_input',\n",
       "       'VAR_19_input', 'VAR_22_input', 'VAR_25_input', 'VAR_28_input',\n",
       "       'VAR_30_input', 'VAR_32_input', 'VAR_33_input', 'VAR_40_input',\n",
       "       'VAR_44_input', 'VAR_53_input', 'VAR_54_input', 'VAR_60_input',\n",
       "       'VAR_65_input', 'VAR_72_input'],\n",
       "      dtype='object')"
      ]
     },
     "execution_count": 33,
     "metadata": {},
     "output_type": "execute_result"
    }
   ],
   "source": [
    "df_for_feature_selection.columns"
   ]
  },
  {
   "cell_type": "code",
   "execution_count": 35,
   "id": "d24528d7-e13c-4a5b-8a0c-236b10231538",
   "metadata": {},
   "outputs": [],
   "source": [
    "df_fim = pd.DataFrame()\n",
    "list_idade = df_for_feature_selection['VAR_57'].unique().tolist()"
   ]
  },
  {
   "cell_type": "code",
   "execution_count": 38,
   "id": "e1ca2766-725d-4eca-8055-287068e87beb",
   "metadata": {},
   "outputs": [],
   "source": [
    "warnings.simplefilter(\"ignore\")\n",
    "df_test = df_for_feature_selection.copy()\n",
    "\n",
    "for col in cols_outliers:\n",
    "    df_fim = pd.DataFrame()\n",
    "    for s in list_idade:\n",
    "        df_group = df_for_feature_selection[df_for_feature_selection['VAR_57']==s]\n",
    "        med = df_group[col].median().astype('float64')\n",
    "        df_group[f'{col}_2'] = df_group.apply(lambda x: med if x[f'{col}_outlier'] else x[col], axis=1)\n",
    "        df_fim = pd.concat([df_fim,df_group])\n",
    "\n",
    "    df_test = df_test.merge(df_fim[['id',f'{col}_2']], on='id')\n",
    "    "
   ]
  },
  {
   "cell_type": "code",
   "execution_count": 39,
   "id": "0531258b-34f0-4c70-a6e9-54ac504fbbe5",
   "metadata": {},
   "outputs": [],
   "source": [
    "df_for_automatic_selection = df_test[['id', 'safra', 'y','VAR_1_input_2', 'VAR_2_input',\n",
    "       'VAR_3_input', 'VAR_4_input', 'VAR_6_input_2', 'VAR_9_input',\n",
    "       'VAR_19_input', 'VAR_22_input', 'VAR_25_input', 'VAR_28_input',\n",
    "       'VAR_30_input_2', 'VAR_32_input', 'VAR_33_input', 'VAR_40_input',\n",
    "       'VAR_44_input', 'VAR_53_input_2', 'VAR_54_input_2', 'VAR_60_input',\n",
    "       'VAR_65_input_2', 'VAR_72_input_2']]"
   ]
  },
  {
   "cell_type": "markdown",
   "id": "f40a7664-d23d-4747-b78e-3b095bc0d340",
   "metadata": {},
   "source": [
    "### 3.Seleção de variáveis"
   ]
  },
  {
   "cell_type": "markdown",
   "id": "9273cc14-5286-42a1-aa55-2328eb5711da",
   "metadata": {},
   "source": [
    "#### 3.1Seleção automática de variáveis\n",
    "* Boruta: as variáveis originais são comparadas com suas sombras, em que para cada variável, temos suas replicas de forma embaralhada e se a original possuir uma importância maior que a sua sombra significa que ela é realmente explicativa e seguirá até a última interação com a resposta se foi realmente importante"
   ]
  },
  {
   "cell_type": "code",
   "execution_count": 42,
   "id": "21166921-e8bf-4640-b510-bee8e164ab0c",
   "metadata": {},
   "outputs": [
    {
     "data": {
      "text/plain": [
       "Index(['id', 'safra', 'y', 'VAR_1_input_2', 'VAR_2_input', 'VAR_3_input',\n",
       "       'VAR_4_input', 'VAR_6_input_2', 'VAR_9_input', 'VAR_19_input',\n",
       "       'VAR_22_input', 'VAR_25_input', 'VAR_28_input', 'VAR_30_input_2',\n",
       "       'VAR_32_input', 'VAR_33_input', 'VAR_40_input', 'VAR_44_input',\n",
       "       'VAR_53_input_2', 'VAR_54_input_2', 'VAR_60_input', 'VAR_65_input_2',\n",
       "       'VAR_72_input_2'],\n",
       "      dtype='object')"
      ]
     },
     "execution_count": 42,
     "metadata": {},
     "output_type": "execute_result"
    }
   ],
   "source": [
    "df_for_automatic_selection.columns"
   ]
  },
  {
   "cell_type": "code",
   "execution_count": 43,
   "id": "028ce82e-c80b-4ff3-a311-3a503d581a34",
   "metadata": {},
   "outputs": [],
   "source": [
    "# utilização de 9 meses para treino e 3 meses finais para test\n",
    "df_safra_train = df_for_automatic_selection[df_for_automatic_selection['safra'] <= 201409]\n",
    "df_safra_test = df_for_automatic_selection[df_for_automatic_selection['safra'] > 201409]\n",
    "\n",
    "X_train = df_safra_train.loc[:,df_safra_train.columns.str.startswith('VAR')]\n",
    "y_train = df_safra_train['y']\n",
    "X_test = df_safra_train.loc[:,df_safra_test.columns.str.startswith('VAR')]\n",
    "y_test = df_safra_test['y']\n",
    "\n",
    "rf = rf = RandomForestClassifier(n_jobs=-1, class_weight='balanced', max_depth=5, random_state=42)\n",
    "\n",
    "boruta =BorutaPy( rf, n_estimators='auto', verbose=0, random_state=42 ).fit(X_train, y_train)"
   ]
  },
  {
   "cell_type": "code",
   "execution_count": 44,
   "id": "dc044cbb-08f8-45fa-8f48-1a99f09f0a61",
   "metadata": {},
   "outputs": [],
   "source": [
    "cols_selected = boruta.support_.tolist()"
   ]
  },
  {
   "cell_type": "code",
   "execution_count": 45,
   "id": "d0df0031-ada5-432a-a113-232d4b100cb4",
   "metadata": {},
   "outputs": [
    {
     "name": "stdout",
     "output_type": "stream",
     "text": [
      "20\n"
     ]
    },
    {
     "data": {
      "text/plain": [
       "['VAR_1_input_2',\n",
       " 'VAR_2_input',\n",
       " 'VAR_3_input',\n",
       " 'VAR_4_input',\n",
       " 'VAR_6_input_2',\n",
       " 'VAR_9_input',\n",
       " 'VAR_19_input',\n",
       " 'VAR_22_input',\n",
       " 'VAR_25_input',\n",
       " 'VAR_28_input',\n",
       " 'VAR_30_input_2',\n",
       " 'VAR_32_input',\n",
       " 'VAR_33_input',\n",
       " 'VAR_40_input',\n",
       " 'VAR_44_input',\n",
       " 'VAR_53_input_2',\n",
       " 'VAR_54_input_2',\n",
       " 'VAR_60_input',\n",
       " 'VAR_65_input_2',\n",
       " 'VAR_72_input_2']"
      ]
     },
     "execution_count": 45,
     "metadata": {},
     "output_type": "execute_result"
    }
   ],
   "source": [
    "list_features = X_train.iloc[:, cols_selected].columns.to_list()\n",
    "print(len(list_features))\n",
    "list_features"
   ]
  },
  {
   "cell_type": "markdown",
   "id": "881c5032-7527-4355-bb2e-525c1a5a2e42",
   "metadata": {},
   "source": [
    "#### 3.2 Seleção de variáveis manual\n",
    "* Aplicação de modelo Random Forest para verificar a importância das variáveis"
   ]
  },
  {
   "cell_type": "code",
   "execution_count": 46,
   "id": "18c8b565-d1d1-4aa6-924f-5ca7a7767871",
   "metadata": {},
   "outputs": [
    {
     "data": {
      "text/plain": [
       "<BarContainer object of 20 artists>"
      ]
     },
     "execution_count": 46,
     "metadata": {},
     "output_type": "execute_result"
    },
    {
     "data": {
      "image/png": "[encoded data removed]",
      "text/plain": [
       "<Figure size 1000x500 with 1 Axes>"
      ]
     },
     "metadata": {},
     "output_type": "display_data"
    }
   ],
   "source": [
    "model = RandomForestClassifier(n_jobs=-1, class_weight='balanced', max_depth=5, random_state=42)\n",
    "\n",
    "rf = model.fit(X_train, y_train)\n",
    "\n",
    "importances = rf.feature_importances_\n",
    "feature_names= list_features\n",
    "\n",
    "plt.figure(figsize=(10,5))\n",
    "plt.barh(feature_names, importances, color=\"royalblue\")"
   ]
  },
  {
   "cell_type": "code",
   "execution_count": 47,
   "id": "7967de9d-2b97-404b-b6bd-43c35d77ed22",
   "metadata": {},
   "outputs": [
    {
     "data": {
      "text/html": [
       "<div>\n",
       "<style scoped>\n",
       "    .dataframe tbody tr th:only-of-type {\n",
       "        vertical-align: middle;\n",
       "    }\n",
       "\n",
       "    .dataframe tbody tr th {\n",
       "        vertical-align: top;\n",
       "    }\n",
       "\n",
       "    .dataframe thead th {\n",
       "        text-align: right;\n",
       "    }\n",
       "</style>\n",
       "<table border=\"1\" class=\"dataframe\">\n",
       "  <thead>\n",
       "    <tr style=\"text-align: right;\">\n",
       "      <th></th>\n",
       "      <th>feature</th>\n",
       "      <th>importance</th>\n",
       "    </tr>\n",
       "  </thead>\n",
       "  <tbody>\n",
       "    <tr>\n",
       "      <th>2</th>\n",
       "      <td>VAR_3_input</td>\n",
       "      <td>0.170471</td>\n",
       "    </tr>\n",
       "    <tr>\n",
       "      <th>3</th>\n",
       "      <td>VAR_4_input</td>\n",
       "      <td>0.166287</td>\n",
       "    </tr>\n",
       "    <tr>\n",
       "      <th>1</th>\n",
       "      <td>VAR_2_input</td>\n",
       "      <td>0.164698</td>\n",
       "    </tr>\n",
       "    <tr>\n",
       "      <th>0</th>\n",
       "      <td>VAR_1_input_2</td>\n",
       "      <td>0.103694</td>\n",
       "    </tr>\n",
       "    <tr>\n",
       "      <th>5</th>\n",
       "      <td>VAR_9_input</td>\n",
       "      <td>0.075964</td>\n",
       "    </tr>\n",
       "    <tr>\n",
       "      <th>4</th>\n",
       "      <td>VAR_6_input_2</td>\n",
       "      <td>0.053606</td>\n",
       "    </tr>\n",
       "    <tr>\n",
       "      <th>10</th>\n",
       "      <td>VAR_30_input_2</td>\n",
       "      <td>0.034903</td>\n",
       "    </tr>\n",
       "    <tr>\n",
       "      <th>9</th>\n",
       "      <td>VAR_28_input</td>\n",
       "      <td>0.025684</td>\n",
       "    </tr>\n",
       "    <tr>\n",
       "      <th>18</th>\n",
       "      <td>VAR_65_input_2</td>\n",
       "      <td>0.021709</td>\n",
       "    </tr>\n",
       "    <tr>\n",
       "      <th>15</th>\n",
       "      <td>VAR_53_input_2</td>\n",
       "      <td>0.021463</td>\n",
       "    </tr>\n",
       "    <tr>\n",
       "      <th>17</th>\n",
       "      <td>VAR_60_input</td>\n",
       "      <td>0.019880</td>\n",
       "    </tr>\n",
       "    <tr>\n",
       "      <th>8</th>\n",
       "      <td>VAR_25_input</td>\n",
       "      <td>0.018841</td>\n",
       "    </tr>\n",
       "    <tr>\n",
       "      <th>7</th>\n",
       "      <td>VAR_22_input</td>\n",
       "      <td>0.018565</td>\n",
       "    </tr>\n",
       "    <tr>\n",
       "      <th>6</th>\n",
       "      <td>VAR_19_input</td>\n",
       "      <td>0.017454</td>\n",
       "    </tr>\n",
       "    <tr>\n",
       "      <th>11</th>\n",
       "      <td>VAR_32_input</td>\n",
       "      <td>0.016982</td>\n",
       "    </tr>\n",
       "    <tr>\n",
       "      <th>14</th>\n",
       "      <td>VAR_44_input</td>\n",
       "      <td>0.016860</td>\n",
       "    </tr>\n",
       "    <tr>\n",
       "      <th>16</th>\n",
       "      <td>VAR_54_input_2</td>\n",
       "      <td>0.016147</td>\n",
       "    </tr>\n",
       "    <tr>\n",
       "      <th>12</th>\n",
       "      <td>VAR_33_input</td>\n",
       "      <td>0.012923</td>\n",
       "    </tr>\n",
       "    <tr>\n",
       "      <th>19</th>\n",
       "      <td>VAR_72_input_2</td>\n",
       "      <td>0.012236</td>\n",
       "    </tr>\n",
       "    <tr>\n",
       "      <th>13</th>\n",
       "      <td>VAR_40_input</td>\n",
       "      <td>0.011635</td>\n",
       "    </tr>\n",
       "  </tbody>\n",
       "</table>\n",
       "</div>"
      ],
      "text/plain": [
       "           feature  importance\n",
       "2      VAR_3_input    0.170471\n",
       "3      VAR_4_input    0.166287\n",
       "1      VAR_2_input    0.164698\n",
       "0    VAR_1_input_2    0.103694\n",
       "5      VAR_9_input    0.075964\n",
       "4    VAR_6_input_2    0.053606\n",
       "10  VAR_30_input_2    0.034903\n",
       "9     VAR_28_input    0.025684\n",
       "18  VAR_65_input_2    0.021709\n",
       "15  VAR_53_input_2    0.021463\n",
       "17    VAR_60_input    0.019880\n",
       "8     VAR_25_input    0.018841\n",
       "7     VAR_22_input    0.018565\n",
       "6     VAR_19_input    0.017454\n",
       "11    VAR_32_input    0.016982\n",
       "14    VAR_44_input    0.016860\n",
       "16  VAR_54_input_2    0.016147\n",
       "12    VAR_33_input    0.012923\n",
       "19  VAR_72_input_2    0.012236\n",
       "13    VAR_40_input    0.011635"
      ]
     },
     "execution_count": 47,
     "metadata": {},
     "output_type": "execute_result"
    }
   ],
   "source": [
    "df_importance = pd.DataFrame({\"feature\": feature_names, \"importance\": importances}).sort_values(by='importance',ascending=False)\n",
    "df_importance"
   ]
  },
  {
   "cell_type": "code",
   "execution_count": 50,
   "id": "8e634c43-ecef-4f21-8d08-c273eb4a6019",
   "metadata": {},
   "outputs": [],
   "source": [
    "list_final_features = df_importance[df_importance['importance']>0.05]['feature'].unique().tolist()"
   ]
  },
  {
   "cell_type": "code",
   "execution_count": 51,
   "id": "c0d46ebd-0a7f-48da-9a7a-e26fa35527c4",
   "metadata": {},
   "outputs": [
    {
     "data": {
      "text/plain": [
       "['VAR_3_input',\n",
       " 'VAR_4_input',\n",
       " 'VAR_2_input',\n",
       " 'VAR_1_input_2',\n",
       " 'VAR_9_input',\n",
       " 'VAR_6_input_2']"
      ]
     },
     "execution_count": 51,
     "metadata": {},
     "output_type": "execute_result"
    }
   ],
   "source": [
    "list_final_features"
   ]
  },
  {
   "cell_type": "markdown",
   "id": "3a9b8374-0fd3-4f83-903b-0776dae2cf76",
   "metadata": {},
   "source": [
    "##### boxplots"
   ]
  },
  {
   "cell_type": "code",
   "execution_count": 52,
   "id": "2a78cf41-def7-458e-bca0-fe891ff403be",
   "metadata": {},
   "outputs": [
    {
     "name": "stdout",
     "output_type": "stream",
     "text": [
      "VAR_3_input\n"
     ]
    },
    {
     "data": {
      "image/png": "[encoded data removed]",
      "text/plain": [
       "<Figure size 640x480 with 1 Axes>"
      ]
     },
     "metadata": {},
     "output_type": "display_data"
    },
    {
     "name": "stdout",
     "output_type": "stream",
     "text": [
      "VAR_4_input\n"
     ]
    },
    {
     "data": {
      "image/png": "[encoded data removed]",
      "text/plain": [
       "<Figure size 640x480 with 1 Axes>"
      ]
     },
     "metadata": {},
     "output_type": "display_data"
    },
    {
     "name": "stdout",
     "output_type": "stream",
     "text": [
      "VAR_2_input\n"
     ]
    },
    {
     "data": {
      "image/png": "[encoded data removed]",
      "text/plain": [
       "<Figure size 640x480 with 1 Axes>"
      ]
     },
     "metadata": {},
     "output_type": "display_data"
    },
    {
     "name": "stdout",
     "output_type": "stream",
     "text": [
      "VAR_1_input_2\n"
     ]
    },
    {
     "data": {
      "image/png": "[encoded data removed]",
      "text/plain": [
       "<Figure size 640x480 with 1 Axes>"
      ]
     },
     "metadata": {},
     "output_type": "display_data"
    },
    {
     "name": "stdout",
     "output_type": "stream",
     "text": [
      "VAR_9_input\n"
     ]
    },
    {
     "data": {
      "image/png": "[encoded data removed]",
      "text/plain": [
       "<Figure size 640x480 with 1 Axes>"
      ]
     },
     "metadata": {},
     "output_type": "display_data"
    },
    {
     "name": "stdout",
     "output_type": "stream",
     "text": [
      "VAR_6_input_2\n"
     ]
    },
    {
     "data": {
      "image/png": "[encoded data removed]",
      "text/plain": [
       "<Figure size 640x480 with 1 Axes>"
      ]
     },
     "metadata": {},
     "output_type": "display_data"
    }
   ],
   "source": [
    "for v in list_final_features:\n",
    "    print(v)\n",
    "    srn.boxplot(x='y', y=v, data=df_for_automatic_selection)\n",
    "    plt.show()"
   ]
  },
  {
   "cell_type": "code",
   "execution_count": 53,
   "id": "928e4fb2-9b80-448a-8ad3-13c799c59b5c",
   "metadata": {},
   "outputs": [],
   "source": [
    "df_for_automatic_selection['VAR_3_input_2']=df_for_automatic_selection['VAR_3_input'].apply(lambda x: 1 if x>0 else 0)\n",
    "df_for_automatic_selection['VAR_2_input_2']=df_for_automatic_selection['VAR_2_input'].apply(lambda x: 1 if x>0 else 0)\n",
    "df_for_automatic_selection['VAR_4_input_2']=df_for_automatic_selection['VAR_4_input'].apply(lambda x: 1 if x>0 else 0)"
   ]
  },
  {
   "cell_type": "code",
   "execution_count": 54,
   "id": "a39b9f6f-416f-41cc-a88c-48914fad3208",
   "metadata": {},
   "outputs": [],
   "source": [
    "list_columns = ['VAR_3_input_2','VAR_2_input_2','VAR_4_input_2']"
   ]
  },
  {
   "cell_type": "code",
   "execution_count": 55,
   "id": "bd8d8394-82d3-4e41-b910-4a5cc81e9566",
   "metadata": {},
   "outputs": [
    {
     "name": "stdout",
     "output_type": "stream",
     "text": [
      "VAR_3_input_2\n",
      "Estatística Qui-Quadrado: 872.8491740680931\n",
      "Valor-p: 7.837623560414276e-192\n",
      "Rejeitamos H0, existe associação\n",
      "______________________________________\n",
      "VAR_2_input_2\n",
      "Estatística Qui-Quadrado: 917.400357212767\n",
      "Valor-p: 1.6189449391882026e-201\n",
      "Rejeitamos H0, existe associação\n",
      "______________________________________\n",
      "VAR_4_input_2\n",
      "Estatística Qui-Quadrado: 734.047055926967\n",
      "Valor-p: 1.18085220630772e-161\n",
      "Rejeitamos H0, existe associação\n",
      "______________________________________\n"
     ]
    }
   ],
   "source": [
    "# Teste qui-quadrado\n",
    "for var in list_columns :\n",
    "\n",
    "  tab_biv = pd.crosstab(df_for_automatic_selection[var], df_for_automatic_selection[\"y\"])\n",
    "\n",
    "  # Aplicando o teste qui-quadrado\n",
    "  chi2, p, dof, esperado = chi2_contingency(tab_biv)\n",
    "\n",
    "\n",
    "  print(var)\n",
    "  print(\"Estatística Qui-Quadrado:\", chi2)\n",
    "  print(\"Valor-p:\", p)\n",
    "  if p<0.05:\n",
    "    print('Rejeitamos H0, existe associação')\n",
    "  else:\n",
    "    print('Não rejeitamos H0, variáveis independentes')\n",
    "\n",
    "  print('______________________________________')"
   ]
  },
  {
   "cell_type": "code",
   "execution_count": 56,
   "id": "8c38703f-0893-49af-8f24-865ab0152ff8",
   "metadata": {},
   "outputs": [
    {
     "data": {
      "text/plain": [
       "Index(['id', 'safra', 'y', 'VAR_1_input_2', 'VAR_2_input', 'VAR_3_input',\n",
       "       'VAR_4_input', 'VAR_6_input_2', 'VAR_9_input', 'VAR_19_input',\n",
       "       'VAR_22_input', 'VAR_25_input', 'VAR_28_input', 'VAR_30_input_2',\n",
       "       'VAR_32_input', 'VAR_33_input', 'VAR_40_input', 'VAR_44_input',\n",
       "       'VAR_53_input_2', 'VAR_54_input_2', 'VAR_60_input', 'VAR_65_input_2',\n",
       "       'VAR_72_input_2', 'VAR_3_input_2', 'VAR_2_input_2', 'VAR_4_input_2'],\n",
       "      dtype='object')"
      ]
     },
     "execution_count": 56,
     "metadata": {},
     "output_type": "execute_result"
    }
   ],
   "source": [
    "df_for_automatic_selection.columns"
   ]
  },
  {
   "cell_type": "markdown",
   "id": "7b318c87-d449-41a3-b1c5-4d8027a818df",
   "metadata": {},
   "source": [
    "### 4.Teste de algoritmos"
   ]
  },
  {
   "cell_type": "code",
   "execution_count": 58,
   "id": "99be6aa2-743e-4a65-8a1b-d305e3772adb",
   "metadata": {},
   "outputs": [
    {
     "data": {
      "text/plain": [
       "['VAR_3_input',\n",
       " 'VAR_4_input',\n",
       " 'VAR_2_input',\n",
       " 'VAR_1_input_2',\n",
       " 'VAR_9_input',\n",
       " 'VAR_6_input_2']"
      ]
     },
     "execution_count": 58,
     "metadata": {},
     "output_type": "execute_result"
    }
   ],
   "source": [
    "#lista de features mais relevantes\n",
    "list_final_features"
   ]
  },
  {
   "cell_type": "code",
   "execution_count": 57,
   "id": "f608162f-5d43-46c9-8043-c38e721d9078",
   "metadata": {},
   "outputs": [],
   "source": [
    "list_final_features_transform=['VAR_1_input_2','VAR_2_input_2','VAR_3_input_2','VAR_4_input_2','VAR_6_input_2','VAR_9_input']"
   ]
  },
  {
   "cell_type": "code",
   "execution_count": 59,
   "id": "5664d1b5-8661-4095-aa70-1f967b2da599",
   "metadata": {},
   "outputs": [],
   "source": [
    "df_safra_train = df_for_automatic_selection[df_for_automatic_selection['safra'] <= 201409]\n",
    "df_safra_test = df_for_automatic_selection[df_for_automatic_selection['safra'] > 201409]\n",
    "\n",
    "X_train= df_safra_train[list_final_features_transform]\n",
    "y_train= df_safra_train['y']\n",
    "\n",
    "X_test= df_safra_test[list_final_features_transform]\n",
    "y_test= df_safra_test['y']"
   ]
  },
  {
   "cell_type": "code",
   "execution_count": 60,
   "id": "fe3b5ab3-d819-4dd4-a242-a6ee7092fe9e",
   "metadata": {},
   "outputs": [],
   "source": [
    "# Balanceamento das classes\n",
    "scale_pos_weight = len(y_train) / sum(y_train == 1)"
   ]
  },
  {
   "cell_type": "code",
   "execution_count": 61,
   "id": "a592c7f2-471f-440a-8fc5-55c9f8677594",
   "metadata": {},
   "outputs": [],
   "source": [
    "df_metrics_model = pd.DataFrame()\n",
    "list_model = [RandomForestClassifier(class_weight='balanced', random_state=42),\n",
    "              XGBClassifier(random_state=42,eval_metric='logloss',objective='binary:logistic',scale_pos_weight=scale_pos_weight),\n",
    "             lgb.LGBMClassifier(random_state=42, verbose=0, scale_pos_weight=scale_pos_weight)\n",
    "             ]\n",
    "\n",
    "for model in list_model:\n",
    "    model.fit(X_train, y_train)\n",
    "    y_pred = model.predict(X_train)\n",
    "    y_pred_prob = model.predict_proba(X_train)[:, 1] \n",
    "    \n",
    "    precision = precision_score(y_train, y_pred, zero_division=1)\n",
    "    recall = recall_score(y_train, y_pred, zero_division=1)\n",
    "    f1 = f1_score(y_train, y_train)\n",
    "    roc_auc = roc_auc_score(y_train, y_pred_prob)\n",
    "\n",
    "    metrics = {\n",
    "    'n_model':list_model.index(model),\n",
    "    'Precision': round(precision,3),\n",
    "    'Recall': round(recall,3),\n",
    "    'F1': round(f1,3),\n",
    "    'roc_auc': round(roc_auc,3)\n",
    "    }  \n",
    "    output=pd.DataFrame(metrics,index=[1])\n",
    "    df_metrics_model = pd.concat([df_metrics_model,output])\n"
   ]
  },
  {
   "cell_type": "code",
   "execution_count": 62,
   "id": "03f13b75-a9e3-4e32-878c-3a0029ad3a99",
   "metadata": {},
   "outputs": [
    {
     "data": {
      "text/html": [
       "<div>\n",
       "<style scoped>\n",
       "    .dataframe tbody tr th:only-of-type {\n",
       "        vertical-align: middle;\n",
       "    }\n",
       "\n",
       "    .dataframe tbody tr th {\n",
       "        vertical-align: top;\n",
       "    }\n",
       "\n",
       "    .dataframe thead th {\n",
       "        text-align: right;\n",
       "    }\n",
       "</style>\n",
       "<table border=\"1\" class=\"dataframe\">\n",
       "  <thead>\n",
       "    <tr style=\"text-align: right;\">\n",
       "      <th></th>\n",
       "      <th>n_model</th>\n",
       "      <th>Precision</th>\n",
       "      <th>Recall</th>\n",
       "      <th>F1</th>\n",
       "      <th>roc_auc</th>\n",
       "    </tr>\n",
       "  </thead>\n",
       "  <tbody>\n",
       "    <tr>\n",
       "      <th>1</th>\n",
       "      <td>0</td>\n",
       "      <td>0.989</td>\n",
       "      <td>0.996</td>\n",
       "      <td>1.0</td>\n",
       "      <td>1.000</td>\n",
       "    </tr>\n",
       "    <tr>\n",
       "      <th>1</th>\n",
       "      <td>1</td>\n",
       "      <td>0.637</td>\n",
       "      <td>0.915</td>\n",
       "      <td>1.0</td>\n",
       "      <td>0.938</td>\n",
       "    </tr>\n",
       "    <tr>\n",
       "      <th>1</th>\n",
       "      <td>2</td>\n",
       "      <td>0.521</td>\n",
       "      <td>0.839</td>\n",
       "      <td>1.0</td>\n",
       "      <td>0.868</td>\n",
       "    </tr>\n",
       "  </tbody>\n",
       "</table>\n",
       "</div>"
      ],
      "text/plain": [
       "   n_model  Precision  Recall   F1  roc_auc\n",
       "1        0      0.989   0.996  1.0    1.000\n",
       "1        1      0.637   0.915  1.0    0.938\n",
       "1        2      0.521   0.839  1.0    0.868"
      ]
     },
     "execution_count": 62,
     "metadata": {},
     "output_type": "execute_result"
    }
   ],
   "source": [
    "df_metrics_model"
   ]
  },
  {
   "cell_type": "code",
   "execution_count": 63,
   "id": "e6518855-5c66-44ad-8bff-1e7bf9102d15",
   "metadata": {},
   "outputs": [
    {
     "data": {
      "text/html": [
       "<div>\n",
       "<style scoped>\n",
       "    .dataframe tbody tr th:only-of-type {\n",
       "        vertical-align: middle;\n",
       "    }\n",
       "\n",
       "    .dataframe tbody tr th {\n",
       "        vertical-align: top;\n",
       "    }\n",
       "\n",
       "    .dataframe thead th {\n",
       "        text-align: right;\n",
       "    }\n",
       "</style>\n",
       "<table border=\"1\" class=\"dataframe\">\n",
       "  <thead>\n",
       "    <tr style=\"text-align: right;\">\n",
       "      <th></th>\n",
       "      <th>Precision</th>\n",
       "      <th>Recall</th>\n",
       "      <th>F1</th>\n",
       "      <th>roc_auc</th>\n",
       "    </tr>\n",
       "  </thead>\n",
       "  <tbody>\n",
       "    <tr>\n",
       "      <th>1</th>\n",
       "      <td>0.439</td>\n",
       "      <td>0.546</td>\n",
       "      <td>0.487</td>\n",
       "      <td>0.657</td>\n",
       "    </tr>\n",
       "  </tbody>\n",
       "</table>\n",
       "</div>"
      ],
      "text/plain": [
       "   Precision  Recall     F1  roc_auc\n",
       "1      0.439   0.546  0.487    0.657"
      ]
     },
     "execution_count": 63,
     "metadata": {},
     "output_type": "execute_result"
    }
   ],
   "source": [
    "# Aplicar modelo com melhores métricas na base de teste\n",
    "\n",
    "modelo=XGBClassifier(random_state=42,eval_metric='logloss',objective='binary:logistic',scale_pos_weight=scale_pos_weight)\n",
    "model.fit(X_train, y_train)\n",
    "\n",
    "y_pred = model.predict(X_test)\n",
    "y_pred_prob = model.predict_proba(X_test)[:, 1] \n",
    "\n",
    "precision = precision_score(y_test, y_pred, zero_division=1)\n",
    "recall = recall_score(y_test, y_pred, zero_division=1)\n",
    "f1 = f1_score(y_test, y_pred)\n",
    "accuracy = accuracy_score(y_test, y_pred)\n",
    "roc_auc = roc_auc_score(y_test, y_pred_prob)\n",
    "\n",
    "metrics = {\n",
    "'Precision': round(precision,3),\n",
    "'Recall': round(recall,3),\n",
    "'F1': round(f1,3),\n",
    "'roc_auc': round(roc_auc,3)\n",
    "}  \n",
    "output_test=pd.DataFrame(metrics,index=[1])\n",
    "output_test"
   ]
  },
  {
   "cell_type": "code",
   "execution_count": 64,
   "id": "7ea7d5d3-2637-4dfc-8ac0-75c000d53728",
   "metadata": {},
   "outputs": [
    {
     "name": "stdout",
     "output_type": "stream",
     "text": [
      "KS Treino: 0.7199\n",
      "KS Teste: 0.1850\n",
      "KS Delta: 0.5349\n"
     ]
    }
   ],
   "source": [
    "model=XGBClassifier(random_state=42,eval_metric='logloss',objective='binary:logistic',scale_pos_weight=scale_pos_weight)\n",
    "model.fit(X_train, y_train)\n",
    "\n",
    "y_train_pred = model.predict_proba(X_train)[:, 1]\n",
    "y_test_pred = model.predict_proba(X_test)[:, 1]\n",
    "\n",
    "# Calculando o KS no treino e no teste\n",
    "def ks_score(y_true, y_pred):\n",
    "    \"\"\"Calcula o KS Score entre classes\"\"\"\n",
    "    return ks_2samp(y_pred[y_true == 1], y_pred[y_true == 0]).statistic\n",
    "\n",
    "ks_train = ks_score(y_train, y_train_pred)\n",
    "ks_test = ks_score(y_test, y_test_pred)\n",
    "\n",
    "# Calculando o delta entre KS Treino e Teste\n",
    "ks_delta = abs(ks_train - ks_test)\n",
    "\n",
    "# Exibindo os resultados\n",
    "# print(f\"Melhores Hiperparâmetros: {random_search.best_params_}\")\n",
    "print(f\"KS Treino: {ks_train:.4f}\")\n",
    "print(f\"KS Teste: {ks_test:.4f}\")\n",
    "print(f\"KS Delta: {ks_delta:.4}\")"
   ]
  },
  {
   "cell_type": "markdown",
   "id": "51f72903-cb06-4dc1-ab98-4e35d32ab311",
   "metadata": {},
   "source": [
    "* Precisão: Dos casos que o modelo fez previsão de inadimplente, quantos ele acertou\n",
    "* Recall: Dos casos de inadimplência quantos o modelo detectou\n",
    "* F1-Score: Equilibrio entre precisão e cobertura\n",
    "* Roc_auc: Capacidade do modelo distinguir entre adimplêntes e inadimplentes. Área sobre a curva que mede a tx de FPs vs VPs\n",
    "* O modelo XGB apresentou melhores métricas, mas no próprio treino apresentava indícios de overfiting\n",
    "* Modelo baseado em árvore, aplica um peso maior para as predições incorretas e de forma recursiva melhora a cada interação\n",
    "* As métricas perderam muita performance entre treino e teste"
   ]
  },
  {
   "cell_type": "markdown",
   "id": "99bfa8b6-83f1-4f5c-a4ce-01701da56ada",
   "metadata": {},
   "source": [
    "### 5.Otimização de hiperpârametros\n",
    "* n_estimators:numero de árvores\n",
    "* max_depth: profundidade da árvore\n",
    "* subsample: amostragem de registros para cada iteração\n",
    "* eta: Quantidade de correções a cada iteração\n",
    "* lambda: regularização L1\n",
    "* alpha: regularização L2"
   ]
  },
  {
   "cell_type": "code",
   "execution_count": 65,
   "id": "f746e509-5de0-4f44-a018-79d137b0703c",
   "metadata": {
    "scrolled": true
   },
   "outputs": [
    {
     "name": "stdout",
     "output_type": "stream",
     "text": [
      "Melhores Hiperparâmetros: {'n_estimators': 104, 'max_depth': 4, 'subsample': 0.7961458682585727, 'eta': 0.08802387396628365, 'lambda': 0.7718779799078594, 'alpha': 0.0014537280970768163}\n"
     ]
    },
    {
     "data": {
      "text/html": [
       "<style>#sk-container-id-1 {\n",
       "  /* Definition of color scheme common for light and dark mode */\n",
       "  --sklearn-color-text: black;\n",
       "  --sklearn-color-line: gray;\n",
       "  /* Definition of color scheme for unfitted estimators */\n",
       "  --sklearn-color-unfitted-level-0: #fff5e6;\n",
       "  --sklearn-color-unfitted-level-1: #f6e4d2;\n",
       "  --sklearn-color-unfitted-level-2: #ffe0b3;\n",
       "  --sklearn-color-unfitted-level-3: chocolate;\n",
       "  /* Definition of color scheme for fitted estimators */\n",
       "  --sklearn-color-fitted-level-0: #f0f8ff;\n",
       "  --sklearn-color-fitted-level-1: #d4ebff;\n",
       "  --sklearn-color-fitted-level-2: #b3dbfd;\n",
       "  --sklearn-color-fitted-level-3: cornflowerblue;\n",
       "\n",
       "  /* Specific color for light theme */\n",
       "  --sklearn-color-text-on-default-background: var(--sg-text-color, var(--theme-code-foreground, var(--jp-content-font-color1, black)));\n",
       "  --sklearn-color-background: var(--sg-background-color, var(--theme-background, var(--jp-layout-color0, white)));\n",
       "  --sklearn-color-border-box: var(--sg-text-color, var(--theme-code-foreground, var(--jp-content-font-color1, black)));\n",
       "  --sklearn-color-icon: #696969;\n",
       "\n",
       "  @media (prefers-color-scheme: dark) {\n",
       "    /* Redefinition of color scheme for dark theme */\n",
       "    --sklearn-color-text-on-default-background: var(--sg-text-color, var(--theme-code-foreground, var(--jp-content-font-color1, white)));\n",
       "    --sklearn-color-background: var(--sg-background-color, var(--theme-background, var(--jp-layout-color0, #111)));\n",
       "    --sklearn-color-border-box: var(--sg-text-color, var(--theme-code-foreground, var(--jp-content-font-color1, white)));\n",
       "    --sklearn-color-icon: #878787;\n",
       "  }\n",
       "}\n",
       "\n",
       "#sk-container-id-1 {\n",
       "  color: var(--sklearn-color-text);\n",
       "}\n",
       "\n",
       "#sk-container-id-1 pre {\n",
       "  padding: 0;\n",
       "}\n",
       "\n",
       "#sk-container-id-1 input.sk-hidden--visually {\n",
       "  border: 0;\n",
       "  clip: rect(1px 1px 1px 1px);\n",
       "  clip: rect(1px, 1px, 1px, 1px);\n",
       "  height: 1px;\n",
       "  margin: -1px;\n",
       "  overflow: hidden;\n",
       "  padding: 0;\n",
       "  position: absolute;\n",
       "  width: 1px;\n",
       "}\n",
       "\n",
       "#sk-container-id-1 div.sk-dashed-wrapped {\n",
       "  border: 1px dashed var(--sklearn-color-line);\n",
       "  margin: 0 0.4em 0.5em 0.4em;\n",
       "  box-sizing: border-box;\n",
       "  padding-bottom: 0.4em;\n",
       "  background-color: var(--sklearn-color-background);\n",
       "}\n",
       "\n",
       "#sk-container-id-1 div.sk-container {\n",
       "  /* jupyter's `normalize.less` sets `[hidden] { display: none; }`\n",
       "     but bootstrap.min.css set `[hidden] { display: none !important; }`\n",
       "     so we also need the `!important` here to be able to override the\n",
       "     default hidden behavior on the sphinx rendered scikit-learn.org.\n",
       "     See: https://github.com/scikit-learn/scikit-learn/issues/21755 */\n",
       "  display: inline-block !important;\n",
       "  position: relative;\n",
       "}\n",
       "\n",
       "#sk-container-id-1 div.sk-text-repr-fallback {\n",
       "  display: none;\n",
       "}\n",
       "\n",
       "div.sk-parallel-item,\n",
       "div.sk-serial,\n",
       "div.sk-item {\n",
       "  /* draw centered vertical line to link estimators */\n",
       "  background-image: linear-gradient(var(--sklearn-color-text-on-default-background), var(--sklearn-color-text-on-default-background));\n",
       "  background-size: 2px 100%;\n",
       "  background-repeat: no-repeat;\n",
       "  background-position: center center;\n",
       "}\n",
       "\n",
       "/* Parallel-specific style estimator block */\n",
       "\n",
       "#sk-container-id-1 div.sk-parallel-item::after {\n",
       "  content: \"\";\n",
       "  width: 100%;\n",
       "  border-bottom: 2px solid var(--sklearn-color-text-on-default-background);\n",
       "  flex-grow: 1;\n",
       "}\n",
       "\n",
       "#sk-container-id-1 div.sk-parallel {\n",
       "  display: flex;\n",
       "  align-items: stretch;\n",
       "  justify-content: center;\n",
       "  background-color: var(--sklearn-color-background);\n",
       "  position: relative;\n",
       "}\n",
       "\n",
       "#sk-container-id-1 div.sk-parallel-item {\n",
       "  display: flex;\n",
       "  flex-direction: column;\n",
       "}\n",
       "\n",
       "#sk-container-id-1 div.sk-parallel-item:first-child::after {\n",
       "  align-self: flex-end;\n",
       "  width: 50%;\n",
       "}\n",
       "\n",
       "#sk-container-id-1 div.sk-parallel-item:last-child::after {\n",
       "  align-self: flex-start;\n",
       "  width: 50%;\n",
       "}\n",
       "\n",
       "#sk-container-id-1 div.sk-parallel-item:only-child::after {\n",
       "  width: 0;\n",
       "}\n",
       "\n",
       "/* Serial-specific style estimator block */\n",
       "\n",
       "#sk-container-id-1 div.sk-serial {\n",
       "  display: flex;\n",
       "  flex-direction: column;\n",
       "  align-items: center;\n",
       "  background-color: var(--sklearn-color-background);\n",
       "  padding-right: 1em;\n",
       "  padding-left: 1em;\n",
       "}\n",
       "\n",
       "\n",
       "/* Toggleable style: style used for estimator/Pipeline/ColumnTransformer box that is\n",
       "clickable and can be expanded/collapsed.\n",
       "- Pipeline and ColumnTransformer use this feature and define the default style\n",
       "- Estimators will overwrite some part of the style using the `sk-estimator` class\n",
       "*/\n",
       "\n",
       "/* Pipeline and ColumnTransformer style (default) */\n",
       "\n",
       "#sk-container-id-1 div.sk-toggleable {\n",
       "  /* Default theme specific background. It is overwritten whether we have a\n",
       "  specific estimator or a Pipeline/ColumnTransformer */\n",
       "  background-color: var(--sklearn-color-background);\n",
       "}\n",
       "\n",
       "/* Toggleable label */\n",
       "#sk-container-id-1 label.sk-toggleable__label {\n",
       "  cursor: pointer;\n",
       "  display: block;\n",
       "  width: 100%;\n",
       "  margin-bottom: 0;\n",
       "  padding: 0.5em;\n",
       "  box-sizing: border-box;\n",
       "  text-align: center;\n",
       "}\n",
       "\n",
       "#sk-container-id-1 label.sk-toggleable__label-arrow:before {\n",
       "  /* Arrow on the left of the label */\n",
       "  content: \"▸\";\n",
       "  float: left;\n",
       "  margin-right: 0.25em;\n",
       "  color: var(--sklearn-color-icon);\n",
       "}\n",
       "\n",
       "#sk-container-id-1 label.sk-toggleable__label-arrow:hover:before {\n",
       "  color: var(--sklearn-color-text);\n",
       "}\n",
       "\n",
       "/* Toggleable content - dropdown */\n",
       "\n",
       "#sk-container-id-1 div.sk-toggleable__content {\n",
       "  max-height: 0;\n",
       "  max-width: 0;\n",
       "  overflow: hidden;\n",
       "  text-align: left;\n",
       "  /* unfitted */\n",
       "  background-color: var(--sklearn-color-unfitted-level-0);\n",
       "}\n",
       "\n",
       "#sk-container-id-1 div.sk-toggleable__content.fitted {\n",
       "  /* fitted */\n",
       "  background-color: var(--sklearn-color-fitted-level-0);\n",
       "}\n",
       "\n",
       "#sk-container-id-1 div.sk-toggleable__content pre {\n",
       "  margin: 0.2em;\n",
       "  border-radius: 0.25em;\n",
       "  color: var(--sklearn-color-text);\n",
       "  /* unfitted */\n",
       "  background-color: var(--sklearn-color-unfitted-level-0);\n",
       "}\n",
       "\n",
       "#sk-container-id-1 div.sk-toggleable__content.fitted pre {\n",
       "  /* unfitted */\n",
       "  background-color: var(--sklearn-color-fitted-level-0);\n",
       "}\n",
       "\n",
       "#sk-container-id-1 input.sk-toggleable__control:checked~div.sk-toggleable__content {\n",
       "  /* Expand drop-down */\n",
       "  max-height: 200px;\n",
       "  max-width: 100%;\n",
       "  overflow: auto;\n",
       "}\n",
       "\n",
       "#sk-container-id-1 input.sk-toggleable__control:checked~label.sk-toggleable__label-arrow:before {\n",
       "  content: \"▾\";\n",
       "}\n",
       "\n",
       "/* Pipeline/ColumnTransformer-specific style */\n",
       "\n",
       "#sk-container-id-1 div.sk-label input.sk-toggleable__control:checked~label.sk-toggleable__label {\n",
       "  color: var(--sklearn-color-text);\n",
       "  background-color: var(--sklearn-color-unfitted-level-2);\n",
       "}\n",
       "\n",
       "#sk-container-id-1 div.sk-label.fitted input.sk-toggleable__control:checked~label.sk-toggleable__label {\n",
       "  background-color: var(--sklearn-color-fitted-level-2);\n",
       "}\n",
       "\n",
       "/* Estimator-specific style */\n",
       "\n",
       "/* Colorize estimator box */\n",
       "#sk-container-id-1 div.sk-estimator input.sk-toggleable__control:checked~label.sk-toggleable__label {\n",
       "  /* unfitted */\n",
       "  background-color: var(--sklearn-color-unfitted-level-2);\n",
       "}\n",
       "\n",
       "#sk-container-id-1 div.sk-estimator.fitted input.sk-toggleable__control:checked~label.sk-toggleable__label {\n",
       "  /* fitted */\n",
       "  background-color: var(--sklearn-color-fitted-level-2);\n",
       "}\n",
       "\n",
       "#sk-container-id-1 div.sk-label label.sk-toggleable__label,\n",
       "#sk-container-id-1 div.sk-label label {\n",
       "  /* The background is the default theme color */\n",
       "  color: var(--sklearn-color-text-on-default-background);\n",
       "}\n",
       "\n",
       "/* On hover, darken the color of the background */\n",
       "#sk-container-id-1 div.sk-label:hover label.sk-toggleable__label {\n",
       "  color: var(--sklearn-color-text);\n",
       "  background-color: var(--sklearn-color-unfitted-level-2);\n",
       "}\n",
       "\n",
       "/* Label box, darken color on hover, fitted */\n",
       "#sk-container-id-1 div.sk-label.fitted:hover label.sk-toggleable__label.fitted {\n",
       "  color: var(--sklearn-color-text);\n",
       "  background-color: var(--sklearn-color-fitted-level-2);\n",
       "}\n",
       "\n",
       "/* Estimator label */\n",
       "\n",
       "#sk-container-id-1 div.sk-label label {\n",
       "  font-family: monospace;\n",
       "  font-weight: bold;\n",
       "  display: inline-block;\n",
       "  line-height: 1.2em;\n",
       "}\n",
       "\n",
       "#sk-container-id-1 div.sk-label-container {\n",
       "  text-align: center;\n",
       "}\n",
       "\n",
       "/* Estimator-specific */\n",
       "#sk-container-id-1 div.sk-estimator {\n",
       "  font-family: monospace;\n",
       "  border: 1px dotted var(--sklearn-color-border-box);\n",
       "  border-radius: 0.25em;\n",
       "  box-sizing: border-box;\n",
       "  margin-bottom: 0.5em;\n",
       "  /* unfitted */\n",
       "  background-color: var(--sklearn-color-unfitted-level-0);\n",
       "}\n",
       "\n",
       "#sk-container-id-1 div.sk-estimator.fitted {\n",
       "  /* fitted */\n",
       "  background-color: var(--sklearn-color-fitted-level-0);\n",
       "}\n",
       "\n",
       "/* on hover */\n",
       "#sk-container-id-1 div.sk-estimator:hover {\n",
       "  /* unfitted */\n",
       "  background-color: var(--sklearn-color-unfitted-level-2);\n",
       "}\n",
       "\n",
       "#sk-container-id-1 div.sk-estimator.fitted:hover {\n",
       "  /* fitted */\n",
       "  background-color: var(--sklearn-color-fitted-level-2);\n",
       "}\n",
       "\n",
       "/* Specification for estimator info (e.g. \"i\" and \"?\") */\n",
       "\n",
       "/* Common style for \"i\" and \"?\" */\n",
       "\n",
       ".sk-estimator-doc-link,\n",
       "a:link.sk-estimator-doc-link,\n",
       "a:visited.sk-estimator-doc-link {\n",
       "  float: right;\n",
       "  font-size: smaller;\n",
       "  line-height: 1em;\n",
       "  font-family: monospace;\n",
       "  background-color: var(--sklearn-color-background);\n",
       "  border-radius: 1em;\n",
       "  height: 1em;\n",
       "  width: 1em;\n",
       "  text-decoration: none !important;\n",
       "  margin-left: 1ex;\n",
       "  /* unfitted */\n",
       "  border: var(--sklearn-color-unfitted-level-1) 1pt solid;\n",
       "  color: var(--sklearn-color-unfitted-level-1);\n",
       "}\n",
       "\n",
       ".sk-estimator-doc-link.fitted,\n",
       "a:link.sk-estimator-doc-link.fitted,\n",
       "a:visited.sk-estimator-doc-link.fitted {\n",
       "  /* fitted */\n",
       "  border: var(--sklearn-color-fitted-level-1) 1pt solid;\n",
       "  color: var(--sklearn-color-fitted-level-1);\n",
       "}\n",
       "\n",
       "/* On hover */\n",
       "div.sk-estimator:hover .sk-estimator-doc-link:hover,\n",
       ".sk-estimator-doc-link:hover,\n",
       "div.sk-label-container:hover .sk-estimator-doc-link:hover,\n",
       ".sk-estimator-doc-link:hover {\n",
       "  /* unfitted */\n",
       "  background-color: var(--sklearn-color-unfitted-level-3);\n",
       "  color: var(--sklearn-color-background);\n",
       "  text-decoration: none;\n",
       "}\n",
       "\n",
       "div.sk-estimator.fitted:hover .sk-estimator-doc-link.fitted:hover,\n",
       ".sk-estimator-doc-link.fitted:hover,\n",
       "div.sk-label-container:hover .sk-estimator-doc-link.fitted:hover,\n",
       ".sk-estimator-doc-link.fitted:hover {\n",
       "  /* fitted */\n",
       "  background-color: var(--sklearn-color-fitted-level-3);\n",
       "  color: var(--sklearn-color-background);\n",
       "  text-decoration: none;\n",
       "}\n",
       "\n",
       "/* Span, style for the box shown on hovering the info icon */\n",
       ".sk-estimator-doc-link span {\n",
       "  display: none;\n",
       "  z-index: 9999;\n",
       "  position: relative;\n",
       "  font-weight: normal;\n",
       "  right: .2ex;\n",
       "  padding: .5ex;\n",
       "  margin: .5ex;\n",
       "  width: min-content;\n",
       "  min-width: 20ex;\n",
       "  max-width: 50ex;\n",
       "  color: var(--sklearn-color-text);\n",
       "  box-shadow: 2pt 2pt 4pt #999;\n",
       "  /* unfitted */\n",
       "  background: var(--sklearn-color-unfitted-level-0);\n",
       "  border: .5pt solid var(--sklearn-color-unfitted-level-3);\n",
       "}\n",
       "\n",
       ".sk-estimator-doc-link.fitted span {\n",
       "  /* fitted */\n",
       "  background: var(--sklearn-color-fitted-level-0);\n",
       "  border: var(--sklearn-color-fitted-level-3);\n",
       "}\n",
       "\n",
       ".sk-estimator-doc-link:hover span {\n",
       "  display: block;\n",
       "}\n",
       "\n",
       "/* \"?\"-specific style due to the `<a>` HTML tag */\n",
       "\n",
       "#sk-container-id-1 a.estimator_doc_link {\n",
       "  float: right;\n",
       "  font-size: 1rem;\n",
       "  line-height: 1em;\n",
       "  font-family: monospace;\n",
       "  background-color: var(--sklearn-color-background);\n",
       "  border-radius: 1rem;\n",
       "  height: 1rem;\n",
       "  width: 1rem;\n",
       "  text-decoration: none;\n",
       "  /* unfitted */\n",
       "  color: var(--sklearn-color-unfitted-level-1);\n",
       "  border: var(--sklearn-color-unfitted-level-1) 1pt solid;\n",
       "}\n",
       "\n",
       "#sk-container-id-1 a.estimator_doc_link.fitted {\n",
       "  /* fitted */\n",
       "  border: var(--sklearn-color-fitted-level-1) 1pt solid;\n",
       "  color: var(--sklearn-color-fitted-level-1);\n",
       "}\n",
       "\n",
       "/* On hover */\n",
       "#sk-container-id-1 a.estimator_doc_link:hover {\n",
       "  /* unfitted */\n",
       "  background-color: var(--sklearn-color-unfitted-level-3);\n",
       "  color: var(--sklearn-color-background);\n",
       "  text-decoration: none;\n",
       "}\n",
       "\n",
       "#sk-container-id-1 a.estimator_doc_link.fitted:hover {\n",
       "  /* fitted */\n",
       "  background-color: var(--sklearn-color-fitted-level-3);\n",
       "}\n",
       "</style><div id=\"sk-container-id-1\" class=\"sk-top-container\"><div class=\"sk-text-repr-fallback\"><pre>XGBClassifier(alpha=0.0014537280970768163, base_score=None, booster=None,\n",
       "              callbacks=None, colsample_bylevel=None, colsample_bynode=None,\n",
       "              colsample_bytree=None, device=None, early_stopping_rounds=None,\n",
       "              enable_categorical=False, eta=0.08802387396628365,\n",
       "              eval_metric=None, feature_types=None, gamma=None,\n",
       "              grow_policy=None, importance_type=None,\n",
       "              interaction_constraints=None, lambda=0.7718779799078594,\n",
       "              learning_rate=None, max_bin=None, max_cat_threshold=None,\n",
       "              max_cat_to_onehot=None, max_delta_step=None, max_depth=4,\n",
       "              max_leaves=None, min_child_weight=None, missing=nan,\n",
       "              monotone_constraints=None, multi_strategy=None, n_estimators=104, ...)</pre><b>In a Jupyter environment, please rerun this cell to show the HTML representation or trust the notebook. <br />On GitHub, the HTML representation is unable to render, please try loading this page with nbviewer.org.</b></div><div class=\"sk-container\" hidden><div class=\"sk-item\"><div class=\"sk-estimator  sk-toggleable\"><input class=\"sk-toggleable__control sk-hidden--visually\" id=\"sk-estimator-id-1\" type=\"checkbox\" checked><label for=\"sk-estimator-id-1\" class=\"sk-toggleable__label  sk-toggleable__label-arrow \">&nbsp;XGBClassifier<span class=\"sk-estimator-doc-link \">i<span>Not fitted</span></span></label><div class=\"sk-toggleable__content \"><pre>XGBClassifier(alpha=0.0014537280970768163, base_score=None, booster=None,\n",
       "              callbacks=None, colsample_bylevel=None, colsample_bynode=None,\n",
       "              colsample_bytree=None, device=None, early_stopping_rounds=None,\n",
       "              enable_categorical=False, eta=0.08802387396628365,\n",
       "              eval_metric=None, feature_types=None, gamma=None,\n",
       "              grow_policy=None, importance_type=None,\n",
       "              interaction_constraints=None, lambda=0.7718779799078594,\n",
       "              learning_rate=None, max_bin=None, max_cat_threshold=None,\n",
       "              max_cat_to_onehot=None, max_delta_step=None, max_depth=4,\n",
       "              max_leaves=None, min_child_weight=None, missing=nan,\n",
       "              monotone_constraints=None, multi_strategy=None, n_estimators=104, ...)</pre></div> </div></div></div></div>"
      ],
      "text/plain": [
       "XGBClassifier(alpha=0.0014537280970768163, base_score=None, booster=None,\n",
       "              callbacks=None, colsample_bylevel=None, colsample_bynode=None,\n",
       "              colsample_bytree=None, device=None, early_stopping_rounds=None,\n",
       "              enable_categorical=False, eta=0.08802387396628365,\n",
       "              eval_metric=None, feature_types=None, gamma=None,\n",
       "              grow_policy=None, importance_type=None,\n",
       "              interaction_constraints=None, lambda=0.7718779799078594,\n",
       "              learning_rate=None, max_bin=None, max_cat_threshold=None,\n",
       "              max_cat_to_onehot=None, max_delta_step=None, max_depth=4,\n",
       "              max_leaves=None, min_child_weight=None, missing=nan,\n",
       "              monotone_constraints=None, multi_strategy=None, n_estimators=104, ...)"
      ]
     },
     "execution_count": 65,
     "metadata": {},
     "output_type": "execute_result"
    }
   ],
   "source": [
    "warnings.simplefilter(\"ignore\")\n",
    "optuna.logging.set_verbosity(optuna.logging.ERROR)\n",
    "\n",
    "\n",
    "def ks_score(y_true, y_pred):\n",
    "    \"\"\"Calcula o KS Score entre classes\"\"\"\n",
    "    return ks_2samp(y_pred[y_true == 1], y_pred[y_true == 0]).statistic\n",
    "\n",
    "\n",
    "# Optuna\n",
    "def objective(trial):\n",
    "    params = {\n",
    "        'random_state': 42,\n",
    "        'eval_metric': 'mlogloss',\n",
    "        'objective': 'binary:logistic',\n",
    "        'scale_pos_weight': 3.545336787564767,\n",
    "        'n_estimators': trial.suggest_int('n_estimators', 50, 500),\n",
    "        'max_depth': trial.suggest_int('max_depth', 3, 15),\n",
    "        'subsample': trial.suggest_float('subsample',0.6, 1.0),\n",
    "        'eta': trial.suggest_float('eta',0.05, 0.3),\n",
    "        \"lambda\": trial.suggest_loguniform(\"lambda\", 1e-3, 10.0),  \n",
    "        \"alpha\": trial.suggest_loguniform(\"alpha\", 1e-3, 10.0), \n",
    "    }\n",
    "    \n",
    "    # Treinamento do modelo\n",
    "    \n",
    "    model = XGBClassifier(**params)\n",
    "    model.fit(X_train, y_train)\n",
    "    \n",
    "    # Previsões\n",
    "    y_train_pred = model.predict_proba(X_train)[:, 1]\n",
    "    y_test_pred = model.predict_proba(X_test)[:, 1]\n",
    "    \n",
    "    # Cálculo do KS Score\n",
    "    ks_train = ks_score(y_train, y_train_pred)\n",
    "    ks_test = ks_score(y_test, y_test_pred)\n",
    "    \n",
    "    # Cálculo do delta KS\n",
    "    ks_delta = abs(ks_train - ks_test)\n",
    "    \n",
    "    # Queremos minimizar o delta KS\n",
    "    return ks_delta\n",
    "\n",
    "# Criando e executando a otimização\n",
    "study = optuna.create_study(direction=\"minimize\")\n",
    "study.optimize(objective, n_trials=30)\n",
    "\n",
    "# Melhor conjunto de hiperparâmetros\n",
    "best_params = study.best_params\n",
    "print(\"Melhores Hiperparâmetros:\", best_params)\n",
    "best_model = XGBClassifier(**best_params)\n",
    "best_model"
   ]
  },
  {
   "cell_type": "code",
   "execution_count": 68,
   "id": "9d69068a-6845-4b5b-b8a2-1293d781c05f",
   "metadata": {},
   "outputs": [
    {
     "name": "stdout",
     "output_type": "stream",
     "text": [
      "KS Treino: 0.4602\n",
      "KS Teste: 0.2542\n",
      "KS Delta: 0.206\n"
     ]
    }
   ],
   "source": [
    "params = {\n",
    "    'random_state': 42,\n",
    "    'eval_metric':'logloss',\n",
    "    'objective':'binary:logistic',\n",
    "    'scale_pos_weight':scale_pos_weight,\n",
    "    'n_estimators': 104,\n",
    "     'max_depth': 4,\n",
    "     'subsample': 0.7961458682585727,\n",
    "     'eta': 0.08802387396628365,\n",
    "     'lambda': 0.7718779799078594,\n",
    "     'alpha': 0.0014537280970768163\n",
    "}\n",
    "model=XGBClassifier(**params)\n",
    "\n",
    "model.fit(X_train, y_train)\n",
    "\n",
    "y_train_pred = model.predict_proba(X_train)[:, 1]\n",
    "y_test_pred = model.predict_proba(X_test)[:, 1]\n",
    "\n",
    "# Calculando o KS no treino e no teste\n",
    "def ks_score(y_true, y_pred):\n",
    "    \"\"\"Calcula o KS Score entre classes\"\"\"\n",
    "    return ks_2samp(y_pred[y_true == 1], y_pred[y_true == 0]).statistic\n",
    "\n",
    "ks_train = ks_score(y_train, y_train_pred)\n",
    "ks_test = ks_score(y_test, y_test_pred)\n",
    "\n",
    "# Calculando o delta entre KS Treino e Teste\n",
    "ks_delta = abs(ks_train - ks_test)\n",
    "\n",
    "# Exibindo os resultados\n",
    "print(f\"KS Treino: {ks_train:.4f}\")\n",
    "print(f\"KS Teste: {ks_test:.4f}\")\n",
    "print(f\"KS Delta: {ks_delta:.4}\")"
   ]
  },
  {
   "cell_type": "code",
   "execution_count": 70,
   "id": "e7eab113-3ee4-43bf-ac18-d3be892d557f",
   "metadata": {},
   "outputs": [
    {
     "data": {
      "text/html": [
       "<div>\n",
       "<style scoped>\n",
       "    .dataframe tbody tr th:only-of-type {\n",
       "        vertical-align: middle;\n",
       "    }\n",
       "\n",
       "    .dataframe tbody tr th {\n",
       "        vertical-align: top;\n",
       "    }\n",
       "\n",
       "    .dataframe thead th {\n",
       "        text-align: right;\n",
       "    }\n",
       "</style>\n",
       "<table border=\"1\" class=\"dataframe\">\n",
       "  <thead>\n",
       "    <tr style=\"text-align: right;\">\n",
       "      <th></th>\n",
       "      <th>Precision</th>\n",
       "      <th>Recall</th>\n",
       "      <th>F1</th>\n",
       "      <th>roc_auc</th>\n",
       "    </tr>\n",
       "  </thead>\n",
       "  <tbody>\n",
       "    <tr>\n",
       "      <th>1</th>\n",
       "      <td>0.447</td>\n",
       "      <td>0.592</td>\n",
       "      <td>0.51</td>\n",
       "      <td>0.669</td>\n",
       "    </tr>\n",
       "  </tbody>\n",
       "</table>\n",
       "</div>"
      ],
      "text/plain": [
       "   Precision  Recall    F1  roc_auc\n",
       "1      0.447   0.592  0.51    0.669"
      ]
     },
     "execution_count": 70,
     "metadata": {},
     "output_type": "execute_result"
    }
   ],
   "source": [
    "model.fit(X_train, y_train)\n",
    "\n",
    "y_pred = model.predict(X_test)\n",
    "y_pred_prob = model.predict_proba(X_test)[:, 1] \n",
    "\n",
    "precision = precision_score(y_test, y_pred, zero_division=1)\n",
    "recall = recall_score(y_test, y_pred, zero_division=1)\n",
    "f1 = f1_score(y_test, y_pred)\n",
    "accuracy = accuracy_score(y_test, y_pred)\n",
    "roc_auc = roc_auc_score(y_test, y_pred_prob)\n",
    "\n",
    "metrics = {\n",
    "'Precision': round(precision,3),\n",
    "'Recall': round(recall,3),\n",
    "'F1': round(f1,3),\n",
    "'roc_auc': round(roc_auc,3)\n",
    "}  \n",
    "output_test=pd.DataFrame(metrics,index=[1])\n",
    "output_test"
   ]
  },
  {
   "cell_type": "markdown",
   "id": "b459ce9e-75d7-46a1-8566-f107a990451d",
   "metadata": {},
   "source": [
    "* Optuna utilizado para ajuste de hiperparâmetros com base no menor delta de ks, usa distribuição de probabilidade para fazer a otimização\n",
    "* Redução do ks do treino\n",
    "* Redução do delta ks de ~0.5 para ~0.2 com a otimização de parâmetros\n",
    "* Demais métricas ficaram parecidas com o resultado na base de teste antes da otimização"
   ]
  },
  {
   "cell_type": "markdown",
   "id": "df89c135-ae20-4564-9128-cc2b3c86bba5",
   "metadata": {},
   "source": [
    "### 6.Modelo final"
   ]
  },
  {
   "cell_type": "code",
   "execution_count": 71,
   "id": "4684c6ea-8ed7-4c2c-9af6-fb584dc4164c",
   "metadata": {},
   "outputs": [
    {
     "data": {
      "text/plain": [
       "['modelo_binario.pkl']"
      ]
     },
     "execution_count": 71,
     "metadata": {},
     "output_type": "execute_result"
    }
   ],
   "source": [
    "# Modelo e parâmetros finais\n",
    "\n",
    "model = model=XGBClassifier(**params)\n",
    "joblib.dump(model, 'modelo_binario.pkl')"
   ]
  },
  {
   "cell_type": "code",
   "execution_count": 114,
   "id": "b79ea70e-6bcc-448e-bd0e-77cce18adc3e",
   "metadata": {},
   "outputs": [],
   "source": [
    "# Medianas para pré-processamento\n",
    "\n",
    "df_treino=df[df['safra'] <= 201409]\n",
    "\n",
    "df_cluster=df_treino.groupby(['VAR_57']).size().reset_index().rename(columns={0:'n'})\n",
    "\n",
    "for v in list_features:\n",
    "    df_med = df_treino.groupby(['VAR_57'])[v].median().reset_index()\n",
    "    df_cluster = df_cluster.merge(df_med, on='VAR_57')"
   ]
  },
  {
   "cell_type": "code",
   "execution_count": 115,
   "id": "c18f5947-1326-431d-bf0d-5d4955d11e2c",
   "metadata": {},
   "outputs": [
    {
     "data": {
      "text/html": [
       "<div>\n",
       "<style scoped>\n",
       "    .dataframe tbody tr th:only-of-type {\n",
       "        vertical-align: middle;\n",
       "    }\n",
       "\n",
       "    .dataframe tbody tr th {\n",
       "        vertical-align: top;\n",
       "    }\n",
       "\n",
       "    .dataframe thead th {\n",
       "        text-align: right;\n",
       "    }\n",
       "</style>\n",
       "<table border=\"1\" class=\"dataframe\">\n",
       "  <thead>\n",
       "    <tr style=\"text-align: right;\">\n",
       "      <th></th>\n",
       "      <th>VAR_57</th>\n",
       "      <th>n</th>\n",
       "      <th>VAR_1</th>\n",
       "      <th>VAR_2</th>\n",
       "      <th>VAR_3</th>\n",
       "      <th>VAR_4</th>\n",
       "      <th>VAR_6</th>\n",
       "      <th>VAR_9</th>\n",
       "    </tr>\n",
       "  </thead>\n",
       "  <tbody>\n",
       "    <tr>\n",
       "      <th>0</th>\n",
       "      <td>18</td>\n",
       "      <td>6</td>\n",
       "      <td>161.5</td>\n",
       "      <td>3.0</td>\n",
       "      <td>1.0</td>\n",
       "      <td>1.0</td>\n",
       "      <td>200.5</td>\n",
       "      <td>598.230</td>\n",
       "    </tr>\n",
       "    <tr>\n",
       "      <th>1</th>\n",
       "      <td>19</td>\n",
       "      <td>24</td>\n",
       "      <td>23.0</td>\n",
       "      <td>0.0</td>\n",
       "      <td>0.0</td>\n",
       "      <td>0.0</td>\n",
       "      <td>395.5</td>\n",
       "      <td>758.185</td>\n",
       "    </tr>\n",
       "    <tr>\n",
       "      <th>2</th>\n",
       "      <td>20</td>\n",
       "      <td>33</td>\n",
       "      <td>51.0</td>\n",
       "      <td>0.0</td>\n",
       "      <td>0.0</td>\n",
       "      <td>1.0</td>\n",
       "      <td>514.0</td>\n",
       "      <td>650.000</td>\n",
       "    </tr>\n",
       "    <tr>\n",
       "      <th>3</th>\n",
       "      <td>21</td>\n",
       "      <td>69</td>\n",
       "      <td>21.0</td>\n",
       "      <td>0.0</td>\n",
       "      <td>0.0</td>\n",
       "      <td>0.0</td>\n",
       "      <td>570.0</td>\n",
       "      <td>710.370</td>\n",
       "    </tr>\n",
       "    <tr>\n",
       "      <th>4</th>\n",
       "      <td>22</td>\n",
       "      <td>59</td>\n",
       "      <td>16.0</td>\n",
       "      <td>0.0</td>\n",
       "      <td>0.0</td>\n",
       "      <td>0.0</td>\n",
       "      <td>635.0</td>\n",
       "      <td>800.000</td>\n",
       "    </tr>\n",
       "    <tr>\n",
       "      <th>...</th>\n",
       "      <td>...</td>\n",
       "      <td>...</td>\n",
       "      <td>...</td>\n",
       "      <td>...</td>\n",
       "      <td>...</td>\n",
       "      <td>...</td>\n",
       "      <td>...</td>\n",
       "      <td>...</td>\n",
       "    </tr>\n",
       "    <tr>\n",
       "      <th>56</th>\n",
       "      <td>74</td>\n",
       "      <td>26</td>\n",
       "      <td>1.5</td>\n",
       "      <td>0.0</td>\n",
       "      <td>0.0</td>\n",
       "      <td>0.0</td>\n",
       "      <td>1130.5</td>\n",
       "      <td>1000.000</td>\n",
       "    </tr>\n",
       "    <tr>\n",
       "      <th>57</th>\n",
       "      <td>75</td>\n",
       "      <td>18</td>\n",
       "      <td>11.0</td>\n",
       "      <td>0.0</td>\n",
       "      <td>0.0</td>\n",
       "      <td>0.0</td>\n",
       "      <td>1960.0</td>\n",
       "      <td>1000.000</td>\n",
       "    </tr>\n",
       "    <tr>\n",
       "      <th>58</th>\n",
       "      <td>76</td>\n",
       "      <td>22</td>\n",
       "      <td>17.0</td>\n",
       "      <td>0.0</td>\n",
       "      <td>0.0</td>\n",
       "      <td>0.0</td>\n",
       "      <td>1915.5</td>\n",
       "      <td>800.000</td>\n",
       "    </tr>\n",
       "    <tr>\n",
       "      <th>59</th>\n",
       "      <td>77</td>\n",
       "      <td>11</td>\n",
       "      <td>16.0</td>\n",
       "      <td>0.0</td>\n",
       "      <td>0.0</td>\n",
       "      <td>0.0</td>\n",
       "      <td>1609.0</td>\n",
       "      <td>1000.000</td>\n",
       "    </tr>\n",
       "    <tr>\n",
       "      <th>60</th>\n",
       "      <td>78</td>\n",
       "      <td>10</td>\n",
       "      <td>4.0</td>\n",
       "      <td>0.0</td>\n",
       "      <td>0.0</td>\n",
       "      <td>0.0</td>\n",
       "      <td>824.0</td>\n",
       "      <td>1000.000</td>\n",
       "    </tr>\n",
       "  </tbody>\n",
       "</table>\n",
       "<p>61 rows × 8 columns</p>\n",
       "</div>"
      ],
      "text/plain": [
       "    VAR_57   n  VAR_1  VAR_2  VAR_3  VAR_4   VAR_6     VAR_9\n",
       "0       18   6  161.5    3.0    1.0    1.0   200.5   598.230\n",
       "1       19  24   23.0    0.0    0.0    0.0   395.5   758.185\n",
       "2       20  33   51.0    0.0    0.0    1.0   514.0   650.000\n",
       "3       21  69   21.0    0.0    0.0    0.0   570.0   710.370\n",
       "4       22  59   16.0    0.0    0.0    0.0   635.0   800.000\n",
       "..     ...  ..    ...    ...    ...    ...     ...       ...\n",
       "56      74  26    1.5    0.0    0.0    0.0  1130.5  1000.000\n",
       "57      75  18   11.0    0.0    0.0    0.0  1960.0  1000.000\n",
       "58      76  22   17.0    0.0    0.0    0.0  1915.5   800.000\n",
       "59      77  11   16.0    0.0    0.0    0.0  1609.0  1000.000\n",
       "60      78  10    4.0    0.0    0.0    0.0   824.0  1000.000\n",
       "\n",
       "[61 rows x 8 columns]"
      ]
     },
     "execution_count": 115,
     "metadata": {},
     "output_type": "execute_result"
    }
   ],
   "source": [
    "df_cluster"
   ]
  },
  {
   "cell_type": "code",
   "execution_count": 131,
   "id": "72ae1729-79a6-4cd7-8a64-669c3715a8be",
   "metadata": {},
   "outputs": [],
   "source": [
    "# Definições para outliers\n",
    "cols_outliers=['VAR_1_input','VAR_6_input']\n",
    "df_fim =  pd.DataFrame()\n",
    "\n",
    "for c in cols_outliers:\n",
    "    Q1 = df_for_feature_selection[c].quantile(0.25)\n",
    "    Q3 = df_for_feature_selection[c].quantile(0.75)\n",
    "    IQR = Q3 - Q1\n",
    "    LI = Q1 - 1.5 * IQR\n",
    "    LS = Q3 + 1.5 * IQR\n",
    "    \n",
    "    output = dict({'var':c[:5],\n",
    "                    'li':LI,\n",
    "                    'ls':LS\n",
    "                  })\n",
    "    df_output = pd.DataFrame.from_dict(output, orient=\"index\").T\n",
    "    df_fim = pd.concat([df_fim,df_output])"
   ]
  },
  {
   "cell_type": "code",
   "execution_count": 136,
   "id": "5f529394-489b-42ac-bc41-38f65c63f3b0",
   "metadata": {},
   "outputs": [
    {
     "data": {
      "text/html": [
       "<div>\n",
       "<style scoped>\n",
       "    .dataframe tbody tr th:only-of-type {\n",
       "        vertical-align: middle;\n",
       "    }\n",
       "\n",
       "    .dataframe tbody tr th {\n",
       "        vertical-align: top;\n",
       "    }\n",
       "\n",
       "    .dataframe thead th {\n",
       "        text-align: right;\n",
       "    }\n",
       "</style>\n",
       "<table border=\"1\" class=\"dataframe\">\n",
       "  <thead>\n",
       "    <tr style=\"text-align: right;\">\n",
       "      <th></th>\n",
       "      <th>var</th>\n",
       "      <th>li</th>\n",
       "      <th>ls</th>\n",
       "    </tr>\n",
       "  </thead>\n",
       "  <tbody>\n",
       "    <tr>\n",
       "      <th>0</th>\n",
       "      <td>VAR_1</td>\n",
       "      <td>-62.625</td>\n",
       "      <td>104.375</td>\n",
       "    </tr>\n",
       "    <tr>\n",
       "      <th>0</th>\n",
       "      <td>VAR_6</td>\n",
       "      <td>-1840.0</td>\n",
       "      <td>4264.0</td>\n",
       "    </tr>\n",
       "  </tbody>\n",
       "</table>\n",
       "</div>"
      ],
      "text/plain": [
       "     var      li       ls\n",
       "0  VAR_1 -62.625  104.375\n",
       "0  VAR_6 -1840.0   4264.0"
      ]
     },
     "execution_count": 136,
     "metadata": {},
     "output_type": "execute_result"
    }
   ],
   "source": [
    "df_fim"
   ]
  }
 ],
 "metadata": {
  "kernelspec": {
   "display_name": "Python 3 (ipykernel)",
   "language": "python",
   "name": "python3"
  },
  "language_info": {
   "codemirror_mode": {
    "name": "ipython",
    "version": 3
   },
   "file_extension": ".py",
   "mimetype": "text/x-python",
   "name": "python",
   "nbconvert_exporter": "python",
   "pygments_lexer": "ipython3",
   "version": "3.10.12"
  }
 },
 "nbformat": 4,
 "nbformat_minor": 5
}
