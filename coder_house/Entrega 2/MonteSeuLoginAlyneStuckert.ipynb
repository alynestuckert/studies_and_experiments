{
 "cells": [
  {
   "cell_type": "markdown",
   "metadata": {},
   "source": [
    "### Instruções\n",
    "\n",
    "\n",
    "Para sua primeira entrega, propomos que você crie um programa que permita emular o registro e armazenamento de usuários em um banco de dados. Faça isso utilizando o conceito de funções, dicionários, loops e condicionais.\n",
    "\n",
    "* O formato de registro é: Nome de usuário e Senha.\n",
    "* Utilize uma função para armazenar as informações e outra função para exibir as informações.\n",
    "* Utilize um dicionário para armazenar essas informações, com o par usuário-senha (chave-valor).\n",
    "* Utilize outra função para o login de usuários, verificando se a senha coincide com o usuário."
   ]
  },
  {
   "cell_type": "markdown",
   "metadata": {},
   "source": [
    "### Resolução\n",
    "\n",
    "Solicita a quantidade de cadastros que deseja fazer e insere em um dicionário cada par de chave: login e valor: senha"
   ]
  },
  {
   "cell_type": "code",
   "execution_count": null,
   "metadata": {},
   "outputs": [],
   "source": [
    "# Função para criar os cadastros\n",
    "\n",
    "def cadastro():\n",
    "    qtd_cadastros = input('quantos cadastros deseja criar: ')\n",
    "    dict_cadastro = {}\n",
    "\n",
    "    for n in list(range(1,int(qtd_cadastros)+1)):\n",
    "        login_cadastro = input('Insira o login:')\n",
    "        senha_cadastro = input('Insira a senha:')\n",
    "        dict_cadastro[login_cadastro]=senha_cadastro \n",
    "\n",
    "    return dict_cadastro    "
   ]
  },
  {
   "cell_type": "code",
   "execution_count": 9,
   "metadata": {},
   "outputs": [],
   "source": [
    "save_cadastros = cadastro()"
   ]
  },
  {
   "cell_type": "code",
   "execution_count": null,
   "metadata": {},
   "outputs": [
    {
     "name": "stdout",
     "output_type": "stream",
     "text": [
      "{'alyne': '123', 'adriana': '321'}\n"
     ]
    }
   ],
   "source": [
    "# Função para mostrar os cadastros\n",
    "\n",
    "def mostrar_cadastros():\n",
    "    print(save_cadastros)\n",
    "\n",
    "mostrar_cadastros()"
   ]
  },
  {
   "cell_type": "markdown",
   "metadata": {},
   "source": [
    "Enquanto não encontrar o valor de login e senha corretos a variável \"valid\" será False e solicitará logine e senha novamente além de mostrar a informação de senha incorreta"
   ]
  },
  {
   "cell_type": "code",
   "execution_count": 22,
   "metadata": {},
   "outputs": [
    {
     "name": "stdout",
     "output_type": "stream",
     "text": [
      "login ou senha incorretos\n",
      "login ou senha incorretos\n",
      "login e senha corretos\n"
     ]
    }
   ],
   "source": [
    "# Função para validar o cadastro e senha\n",
    "\n",
    "def valid_cadastros():\n",
    "\n",
    "    valid=False\n",
    "\n",
    "    while valid==False: \n",
    "        login = input('Insira o login:')\n",
    "        senha = input('Insira a senha:')\n",
    "\n",
    "        for key, value in save_cadastros.items():\n",
    "            if key == login and value == senha:\n",
    "                valid=True\n",
    "                break\n",
    "            else:\n",
    "                valid=False\n",
    "                \n",
    "\n",
    "        if valid==True:\n",
    "            print(\"login e senha corretos\")\n",
    "        else:\n",
    "            print(\"login ou senha incorretos\")\n",
    "\n",
    "valid_cadastros()"
   ]
  }
 ],
 "metadata": {
  "kernelspec": {
   "display_name": "Python 3",
   "language": "python",
   "name": "python3"
  },
  "language_info": {
   "codemirror_mode": {
    "name": "ipython",
    "version": 3
   },
   "file_extension": ".py",
   "mimetype": "text/x-python",
   "name": "python",
   "nbconvert_exporter": "python",
   "pygments_lexer": "ipython3",
   "version": "3.10.12"
  }
 },
 "nbformat": 4,
 "nbformat_minor": 2
}
